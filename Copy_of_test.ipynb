{
  "nbformat": 4,
  "nbformat_minor": 0,
  "metadata": {
    "colab": {
      "name": "Copy of test.ipynb",
      "version": "0.3.2",
      "provenance": [],
      "collapsed_sections": [],
      "include_colab_link": true
    },
    "language_info": {
      "codemirror_mode": {
        "name": "ipython",
        "version": 3
      },
      "file_extension": ".py",
      "mimetype": "text/x-python",
      "name": "python",
      "nbconvert_exporter": "python",
      "pygments_lexer": "ipython3",
      "version": "3.7.1"
    },
    "kernelspec": {
      "display_name": "Python 3",
      "language": "python",
      "name": "python3"
    }
  },
  "cells": [
    {
      "cell_type": "markdown",
      "metadata": {
        "id": "view-in-github",
        "colab_type": "text"
      },
      "source": [
        "<a href=\"https://colab.research.google.com/github/Shubu-alfa/nltk_work/blob/master/Copy_of_test.ipynb\" target=\"_parent\"><img src=\"https://colab.research.google.com/assets/colab-badge.svg\" alt=\"Open In Colab\"/></a>"
      ]
    },
    {
      "cell_type": "markdown",
      "metadata": {
        "id": "NCo992GFoSin",
        "colab_type": "text"
      },
      "source": [
        "# Email Classification Problem:"
      ]
    },
    {
      "cell_type": "markdown",
      "metadata": {
        "id": "EUlZS05BoSio",
        "colab_type": "text"
      },
      "source": [
        "## *Step-1 :* \n",
        "*Importing the libraries*"
      ]
    },
    {
      "cell_type": "code",
      "metadata": {
        "id": "jgYyJLx5oSio",
        "colab_type": "code",
        "colab": {}
      },
      "source": [
        "import pandas as pd\n",
        "import numpy as np\n",
        "from sklearn.model_selection import train_test_split\n",
        "from sklearn.feature_extraction.text import CountVectorizer"
      ],
      "execution_count": 0,
      "outputs": []
    },
    {
      "cell_type": "markdown",
      "metadata": {
        "id": "A3G91AwOoSir",
        "colab_type": "text"
      },
      "source": [
        "## *Step-2:*\n",
        "*Reading the Spam Data*"
      ]
    },
    {
      "cell_type": "code",
      "metadata": {
        "id": "fT6DZRxHo0Vs",
        "colab_type": "code",
        "outputId": "90967801-e6e9-4c3c-adb0-3d98920ee75f",
        "colab": {
          "resources": {
            "http://localhost:8080/nbextensions/google.colab/files.js": {
              "data": "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",
              "ok": true,
              "headers": [
                [
                  "content-length",
                  "5492"
                ],
                [
                  "content-type",
                  "application/javascript"
                ]
              ],
              "status": 200,
              "status_text": "OK"
            }
          },
          "base_uri": "https://localhost:8080/",
          "height": 74
        }
      },
      "source": [
        "from google.colab import files\n",
        "uploaded = files.upload()"
      ],
      "execution_count": 0,
      "outputs": [
        {
          "output_type": "display_data",
          "data": {
            "text/html": [
              "\n",
              "     <input type=\"file\" id=\"files-f03363b6-1e37-4df5-8f96-c800b62afb8d\" name=\"files[]\" multiple disabled />\n",
              "     <output id=\"result-f03363b6-1e37-4df5-8f96-c800b62afb8d\">\n",
              "      Upload widget is only available when the cell has been executed in the\n",
              "      current browser session. Please rerun this cell to enable.\n",
              "      </output>\n",
              "      <script src=\"/nbextensions/google.colab/files.js\"></script> "
            ],
            "text/plain": [
              "<IPython.core.display.HTML object>"
            ]
          },
          "metadata": {
            "tags": []
          }
        },
        {
          "output_type": "stream",
          "text": [
            "Saving spam.csv to spam (2).csv\n"
          ],
          "name": "stdout"
        }
      ]
    },
    {
      "cell_type": "code",
      "metadata": {
        "id": "VKfmPLGMqW0u",
        "colab_type": "code",
        "colab": {}
      },
      "source": [
        "import io\n",
        "emails = pd.read_csv(io.StringIO(uploaded['spam.csv'].decode('utf-8')))"
      ],
      "execution_count": 0,
      "outputs": []
    },
    {
      "cell_type": "markdown",
      "metadata": {
        "id": "G99Ww3ZWoSit",
        "colab_type": "text"
      },
      "source": [
        "## *Step-3:*\n",
        "*Data Exploration*"
      ]
    },
    {
      "cell_type": "code",
      "metadata": {
        "id": "WTR-60LdoSiu",
        "colab_type": "code",
        "outputId": "8a0a8b50-4535-4512-9a3d-698ece5bec18",
        "colab": {
          "base_uri": "https://localhost:8080/",
          "height": 197
        }
      },
      "source": [
        "emails.head() #Understanding the Data"
      ],
      "execution_count": 0,
      "outputs": [
        {
          "output_type": "execute_result",
          "data": {
            "text/html": [
              "<div>\n",
              "<style scoped>\n",
              "    .dataframe tbody tr th:only-of-type {\n",
              "        vertical-align: middle;\n",
              "    }\n",
              "\n",
              "    .dataframe tbody tr th {\n",
              "        vertical-align: top;\n",
              "    }\n",
              "\n",
              "    .dataframe thead th {\n",
              "        text-align: right;\n",
              "    }\n",
              "</style>\n",
              "<table border=\"1\" class=\"dataframe\">\n",
              "  <thead>\n",
              "    <tr style=\"text-align: right;\">\n",
              "      <th></th>\n",
              "      <th>text</th>\n",
              "      <th>target</th>\n",
              "    </tr>\n",
              "  </thead>\n",
              "  <tbody>\n",
              "    <tr>\n",
              "      <th>0</th>\n",
              "      <td>Go until jurong point, crazy.. Available only ...</td>\n",
              "      <td>ham</td>\n",
              "    </tr>\n",
              "    <tr>\n",
              "      <th>1</th>\n",
              "      <td>Ok lar... Joking wif u oni...</td>\n",
              "      <td>ham</td>\n",
              "    </tr>\n",
              "    <tr>\n",
              "      <th>2</th>\n",
              "      <td>Free entry in 2 a wkly comp to win FA Cup fina...</td>\n",
              "      <td>spam</td>\n",
              "    </tr>\n",
              "    <tr>\n",
              "      <th>3</th>\n",
              "      <td>U dun say so early hor... U c already then say...</td>\n",
              "      <td>ham</td>\n",
              "    </tr>\n",
              "    <tr>\n",
              "      <th>4</th>\n",
              "      <td>Nah I don't think he goes to usf, he lives aro...</td>\n",
              "      <td>ham</td>\n",
              "    </tr>\n",
              "  </tbody>\n",
              "</table>\n",
              "</div>"
            ],
            "text/plain": [
              "                                                text target\n",
              "0  Go until jurong point, crazy.. Available only ...    ham\n",
              "1                      Ok lar... Joking wif u oni...    ham\n",
              "2  Free entry in 2 a wkly comp to win FA Cup fina...   spam\n",
              "3  U dun say so early hor... U c already then say...    ham\n",
              "4  Nah I don't think he goes to usf, he lives aro...    ham"
            ]
          },
          "metadata": {
            "tags": []
          },
          "execution_count": 124
        }
      ]
    },
    {
      "cell_type": "code",
      "metadata": {
        "id": "6rrGE0JDoSiy",
        "colab_type": "code",
        "outputId": "307abd8e-8790-4500-9c48-808ebfc5f4b4",
        "colab": {
          "base_uri": "https://localhost:8080/",
          "height": 34
        }
      },
      "source": [
        "emails.shape #Dimensions of the Data"
      ],
      "execution_count": 0,
      "outputs": [
        {
          "output_type": "execute_result",
          "data": {
            "text/plain": [
              "(5572, 2)"
            ]
          },
          "metadata": {
            "tags": []
          },
          "execution_count": 125
        }
      ]
    },
    {
      "cell_type": "code",
      "metadata": {
        "id": "DsQoagYSoSi1",
        "colab_type": "code",
        "outputId": "ee36b2e9-6ef9-4aae-c0d5-15f088a86937",
        "colab": {
          "base_uri": "https://localhost:8080/",
          "height": 70
        }
      },
      "source": [
        "emails.isnull().sum() #If there are nulls present in the Data"
      ],
      "execution_count": 0,
      "outputs": [
        {
          "output_type": "execute_result",
          "data": {
            "text/plain": [
              "text      0\n",
              "target    0\n",
              "dtype: int64"
            ]
          },
          "metadata": {
            "tags": []
          },
          "execution_count": 126
        }
      ]
    },
    {
      "cell_type": "code",
      "metadata": {
        "id": "iVha8r-yoSi4",
        "colab_type": "code",
        "outputId": "c5b2be79-ac18-493c-e4a7-cc058cc1a2d9",
        "colab": {
          "base_uri": "https://localhost:8080/",
          "height": 141
        }
      },
      "source": [
        "emails.info() #Understanding the Data Type"
      ],
      "execution_count": 0,
      "outputs": [
        {
          "output_type": "stream",
          "text": [
            "<class 'pandas.core.frame.DataFrame'>\n",
            "RangeIndex: 5572 entries, 0 to 5571\n",
            "Data columns (total 2 columns):\n",
            "text      5572 non-null object\n",
            "target    5572 non-null object\n",
            "dtypes: object(2)\n",
            "memory usage: 87.1+ KB\n"
          ],
          "name": "stdout"
        }
      ]
    },
    {
      "cell_type": "code",
      "metadata": {
        "id": "SvcllgoevJSt",
        "colab_type": "code",
        "colab": {}
      },
      "source": [
        "#Checking for Unique Records: Hence converting the records in lower case first\n",
        " def low(text):\n",
        "    # converting text to lowercase\n",
        "    text = text.lower()\n",
        "    return text\n"
      ],
      "execution_count": 0,
      "outputs": []
    },
    {
      "cell_type": "code",
      "metadata": {
        "id": "g9Q4wr31vkw8",
        "colab_type": "code",
        "outputId": "0cef009a-c038-42ca-ab3f-4db8f880cd77",
        "colab": {
          "base_uri": "https://localhost:8080/",
          "height": 123
        }
      },
      "source": [
        "emails['text'] = emails['text'].apply(low)\n",
        "print(emails.head())"
      ],
      "execution_count": 0,
      "outputs": [
        {
          "output_type": "stream",
          "text": [
            "                                                text target\n",
            "0  go until jurong point, crazy.. available only ...    ham\n",
            "1                      ok lar... joking wif u oni...    ham\n",
            "2  free entry in 2 a wkly comp to win fa cup fina...   spam\n",
            "3  u dun say so early hor... u c already then say...    ham\n",
            "4  nah i don't think he goes to usf, he lives aro...    ham\n"
          ],
          "name": "stdout"
        }
      ]
    },
    {
      "cell_type": "code",
      "metadata": {
        "id": "bfyJdFggoSi6",
        "colab_type": "code",
        "outputId": "fc8b369b-a4ef-4478-9aa8-c7cb8dde608a",
        "colab": {
          "base_uri": "https://localhost:8080/",
          "height": 167
        }
      },
      "source": [
        "emails.describe() # 404 duplicate records are present in the data"
      ],
      "execution_count": 0,
      "outputs": [
        {
          "output_type": "execute_result",
          "data": {
            "text/html": [
              "<div>\n",
              "<style scoped>\n",
              "    .dataframe tbody tr th:only-of-type {\n",
              "        vertical-align: middle;\n",
              "    }\n",
              "\n",
              "    .dataframe tbody tr th {\n",
              "        vertical-align: top;\n",
              "    }\n",
              "\n",
              "    .dataframe thead th {\n",
              "        text-align: right;\n",
              "    }\n",
              "</style>\n",
              "<table border=\"1\" class=\"dataframe\">\n",
              "  <thead>\n",
              "    <tr style=\"text-align: right;\">\n",
              "      <th></th>\n",
              "      <th>text</th>\n",
              "      <th>target</th>\n",
              "    </tr>\n",
              "  </thead>\n",
              "  <tbody>\n",
              "    <tr>\n",
              "      <th>count</th>\n",
              "      <td>5572</td>\n",
              "      <td>5572</td>\n",
              "    </tr>\n",
              "    <tr>\n",
              "      <th>unique</th>\n",
              "      <td>5168</td>\n",
              "      <td>2</td>\n",
              "    </tr>\n",
              "    <tr>\n",
              "      <th>top</th>\n",
              "      <td>sorry, i'll call later</td>\n",
              "      <td>ham</td>\n",
              "    </tr>\n",
              "    <tr>\n",
              "      <th>freq</th>\n",
              "      <td>30</td>\n",
              "      <td>4825</td>\n",
              "    </tr>\n",
              "  </tbody>\n",
              "</table>\n",
              "</div>"
            ],
            "text/plain": [
              "                          text target\n",
              "count                     5572   5572\n",
              "unique                    5168      2\n",
              "top     sorry, i'll call later    ham\n",
              "freq                        30   4825"
            ]
          },
          "metadata": {
            "tags": []
          },
          "execution_count": 130
        }
      ]
    },
    {
      "cell_type": "code",
      "metadata": {
        "id": "8g6uKmy2oSi-",
        "colab_type": "code",
        "outputId": "5b71c09a-904c-43af-eeed-8e49fea4caf1",
        "colab": {
          "base_uri": "https://localhost:8080/",
          "height": 34
        }
      },
      "source": [
        "len(emails['text'].unique().tolist())"
      ],
      "execution_count": 0,
      "outputs": [
        {
          "output_type": "execute_result",
          "data": {
            "text/plain": [
              "5168"
            ]
          },
          "metadata": {
            "tags": []
          },
          "execution_count": 131
        }
      ]
    },
    {
      "cell_type": "code",
      "metadata": {
        "id": "GVOm8qQJoSjB",
        "colab_type": "code",
        "colab": {}
      },
      "source": [
        "emails_v1 = emails.drop_duplicates() #Dropping duplicate records"
      ],
      "execution_count": 0,
      "outputs": []
    },
    {
      "cell_type": "code",
      "metadata": {
        "id": "42trTcE3oSjC",
        "colab_type": "code",
        "outputId": "2abffc98-12e5-447a-ea45-6cf51b94ea44",
        "colab": {
          "base_uri": "https://localhost:8080/",
          "height": 34
        }
      },
      "source": [
        "emails_v1.shape"
      ],
      "execution_count": 0,
      "outputs": [
        {
          "output_type": "execute_result",
          "data": {
            "text/plain": [
              "(5168, 2)"
            ]
          },
          "metadata": {
            "tags": []
          },
          "execution_count": 133
        }
      ]
    },
    {
      "cell_type": "code",
      "metadata": {
        "id": "Z8wT6ICroSjF",
        "colab_type": "code",
        "colab": {}
      },
      "source": [
        "spam = emails_v1[emails_v1.iloc[:,1] == 'spam']"
      ],
      "execution_count": 0,
      "outputs": []
    },
    {
      "cell_type": "code",
      "metadata": {
        "id": "M4_rgLmkoSjH",
        "colab_type": "code",
        "outputId": "46620e8f-f295-4216-b45f-4fb188aa76ba",
        "colab": {
          "base_uri": "https://localhost:8080/",
          "height": 34
        }
      },
      "source": [
        "spam.shape"
      ],
      "execution_count": 0,
      "outputs": [
        {
          "output_type": "execute_result",
          "data": {
            "text/plain": [
              "(653, 2)"
            ]
          },
          "metadata": {
            "tags": []
          },
          "execution_count": 135
        }
      ]
    },
    {
      "cell_type": "code",
      "metadata": {
        "id": "4zTcC5e9oSjK",
        "colab_type": "code",
        "colab": {}
      },
      "source": [
        "ham = emails_v1[emails_v1.iloc[:,1] == 'ham']"
      ],
      "execution_count": 0,
      "outputs": []
    },
    {
      "cell_type": "code",
      "metadata": {
        "id": "kkDUs8LhoSjM",
        "colab_type": "code",
        "outputId": "e45a425a-a083-47bf-b52c-fd0ce9347c74",
        "colab": {
          "base_uri": "https://localhost:8080/",
          "height": 34
        }
      },
      "source": [
        "ham.shape"
      ],
      "execution_count": 0,
      "outputs": [
        {
          "output_type": "execute_result",
          "data": {
            "text/plain": [
              "(4515, 2)"
            ]
          },
          "metadata": {
            "tags": []
          },
          "execution_count": 137
        }
      ]
    },
    {
      "cell_type": "markdown",
      "metadata": {
        "id": "ms5UfuO4oSjQ",
        "colab_type": "text"
      },
      "source": [
        "## Question-1:\n",
        "### *Calculate the percentage of text in data shared which are spam?*"
      ]
    },
    {
      "cell_type": "code",
      "metadata": {
        "id": "lvxNIunmoSjR",
        "colab_type": "code",
        "colab": {}
      },
      "source": [
        "def text_spam(sp_data):\n",
        "    spam_per = (int(spam.shape[0])/int(sp_data.shape[0]))*100\n",
        "    return spam_per"
      ],
      "execution_count": 0,
      "outputs": []
    },
    {
      "cell_type": "code",
      "metadata": {
        "id": "7vlmFymHoSjT",
        "colab_type": "code",
        "outputId": "adf5b610-745b-4dc4-aa26-850ba6b7b2dc",
        "colab": {
          "base_uri": "https://localhost:8080/",
          "height": 34
        }
      },
      "source": [
        "spam_percentage = text_spam(emails_v1)\n",
        "print(\"Spam Text Percentage: {}%\".format(round(spam_percentage,2)))"
      ],
      "execution_count": 0,
      "outputs": [
        {
          "output_type": "stream",
          "text": [
            "Spam Text Percentage: 12.64%\n"
          ],
          "name": "stdout"
        }
      ]
    },
    {
      "cell_type": "code",
      "metadata": {
        "id": "DT4YDcIXyC2q",
        "colab_type": "code",
        "outputId": "84253bc3-03f5-40dd-8721-4b4c1d4d1d20",
        "colab": {
          "base_uri": "https://localhost:8080/",
          "height": 197
        }
      },
      "source": [
        "spam.head()"
      ],
      "execution_count": 0,
      "outputs": [
        {
          "output_type": "execute_result",
          "data": {
            "text/html": [
              "<div>\n",
              "<style scoped>\n",
              "    .dataframe tbody tr th:only-of-type {\n",
              "        vertical-align: middle;\n",
              "    }\n",
              "\n",
              "    .dataframe tbody tr th {\n",
              "        vertical-align: top;\n",
              "    }\n",
              "\n",
              "    .dataframe thead th {\n",
              "        text-align: right;\n",
              "    }\n",
              "</style>\n",
              "<table border=\"1\" class=\"dataframe\">\n",
              "  <thead>\n",
              "    <tr style=\"text-align: right;\">\n",
              "      <th></th>\n",
              "      <th>text</th>\n",
              "      <th>target</th>\n",
              "    </tr>\n",
              "  </thead>\n",
              "  <tbody>\n",
              "    <tr>\n",
              "      <th>2</th>\n",
              "      <td>free entry in 2 a wkly comp to win fa cup fina...</td>\n",
              "      <td>spam</td>\n",
              "    </tr>\n",
              "    <tr>\n",
              "      <th>5</th>\n",
              "      <td>freemsg hey there darling it's been 3 week's n...</td>\n",
              "      <td>spam</td>\n",
              "    </tr>\n",
              "    <tr>\n",
              "      <th>8</th>\n",
              "      <td>winner!! as a valued network customer you have...</td>\n",
              "      <td>spam</td>\n",
              "    </tr>\n",
              "    <tr>\n",
              "      <th>9</th>\n",
              "      <td>had your mobile 11 months or more? u r entitle...</td>\n",
              "      <td>spam</td>\n",
              "    </tr>\n",
              "    <tr>\n",
              "      <th>11</th>\n",
              "      <td>six chances to win cash! from 100 to 20,000 po...</td>\n",
              "      <td>spam</td>\n",
              "    </tr>\n",
              "  </tbody>\n",
              "</table>\n",
              "</div>"
            ],
            "text/plain": [
              "                                                 text target\n",
              "2   free entry in 2 a wkly comp to win fa cup fina...   spam\n",
              "5   freemsg hey there darling it's been 3 week's n...   spam\n",
              "8   winner!! as a valued network customer you have...   spam\n",
              "9   had your mobile 11 months or more? u r entitle...   spam\n",
              "11  six chances to win cash! from 100 to 20,000 po...   spam"
            ]
          },
          "metadata": {
            "tags": []
          },
          "execution_count": 140
        }
      ]
    },
    {
      "cell_type": "markdown",
      "metadata": {
        "id": "BLAisxsqk5-V",
        "colab_type": "text"
      },
      "source": [
        "### *Checking alternatively also:*"
      ]
    },
    {
      "cell_type": "code",
      "metadata": {
        "id": "Ais5eRn_lC2K",
        "colab_type": "code",
        "colab": {}
      },
      "source": [
        "# Finding total length of the spam data using Count Vectoriser\n",
        "count_v = CountVectorizer()\n",
        "spam_series = pd.Series(spam['text'])\n",
        "spam_cv = count_v.fit_transform(spam_series)"
      ],
      "execution_count": 0,
      "outputs": []
    },
    {
      "cell_type": "code",
      "metadata": {
        "id": "9r7dW334yYAd",
        "colab_type": "code",
        "outputId": "95c74ccf-0219-4ed9-eb5c-fcb7abe32cf3",
        "colab": {
          "base_uri": "https://localhost:8080/",
          "height": 34
        }
      },
      "source": [
        "all_spam_words = count_v.get_feature_names() #Fetching all the tokens in the spam dataset\n",
        "print(\"Number of Words in Spam Data:\",len(all_spam_words))"
      ],
      "execution_count": 0,
      "outputs": [
        {
          "output_type": "stream",
          "text": [
            "Number of Words in Spam Data: 2867\n"
          ],
          "name": "stdout"
        }
      ]
    },
    {
      "cell_type": "code",
      "metadata": {
        "id": "830bYOy40rzl",
        "colab_type": "code",
        "outputId": "cc6c1694-4e91-44f6-c639-d9fbb9b76f8c",
        "colab": {
          "base_uri": "https://localhost:8080/",
          "height": 54
        }
      },
      "source": [
        "print(all_spam_words)"
      ],
      "execution_count": 0,
      "outputs": [
        {
          "output_type": "stream",
          "text": [
            "['00', '000', '008704050406', '0089', '0121', '01223585236', '01223585334', '02', '0207', '02072069400', '02073162414', '02085076972', '021', '03', '04', '0430', '05', '050703', '0578', '06', '07', '07008009200', '07046744435', '07090201529', '07090298926', '07099833605', '07123456789', '0721072', '07732584351', '07734396839', '07742676969', '07753741225', '0776xxxxxxx', '07781482378', '07786200117', '077xxx', '078', '07801543489', '07808', '07808247860', '07808726822', '07815296484', '07821230901', '078498', '07880867867', '0789xxxxxxx', '07946746291', '0796xxxxxx', '07973788240', '07xxxxxxxxx', '08', '0800', '08000407165', '08000776320', '08000839402', '08000930705', '08000938767', '08001950382', '08002888812', '08002986030', '08002986906', '08002988890', '08006344447', '0808', '08081263000', '08081560665', '0825', '083', '0844', '08448350055', '08448714184', '0845', '08450542832', '08452810071', '08452810073', '08452810075over18', '0870', '08700435505150p', '08700469649', '08700621170150p', '08701213186', '08701237397', '08701417012', '08701417012150p', '0870141701216', '087016248', '08701752560', '087018728737', '0870241182716', '08702490080', '08702840625', '08704050406', '08704439680', '08704439680ts', '08706091795', '0870737910216yrs', '08707500020', '08707509020', '0870753331018', '08707808226', '08708034412', '08708800282', '08709222922', '08709501522', '0871', '087104711148', '08712101358', '08712103738', '0871212025016', '08712300220', '087123002209am', '08712317606', '08712400200', '08712400602450p', '08712400603', '08712402050', '08712402578', '08712402779', '08712402902', '08712402972', '08712404000', '08712405020', '08712405022', '08712460324', '08712466669', '0871277810710p', '0871277810810', '0871277810910p', '08714342399', '087147123779am', '08714712379', '08714712388', '08714712394', '08714712412', '08714714011', '08715203028', '08715203649', '08715203652', '08715203656', '08715203677', '08715203685', '08715203694', '08715205273', '08715500022', '08715705022', '08717111821', '08717168528', '08717205546', '0871750', '08717507382', '08717509990', '08717890890å', '08717895698', '08717898035', '08718711108', '08718720201', '08718723815', '08718725756', '08718726270', '087187262701', '08718726970', '08718726971', '08718726978', '087187272008', '08718727868', '08718727870', '08718727870150ppm', '08718730555', '08718730666', '08718738001', '08718738002', '08718738034', '08719180219', '08719180248', '08719181259', '08719181503', '08719181513', '08719839835', '08719899217', '08719899229', '08719899230', '09', '09041940223', '09050000301', '09050000332', '09050000460', '09050000555', '09050000878', '09050000928', '09050001295', '09050001808', '09050002311', '09050003091', '09050005321', '09050090044', '09050280520', '09053750005', '09056242159', '09057039994', '09058091854', '09058091870', '09058094454', '09058094455', '09058094507', '09058094565', '09058094583', '09058094594', '09058094597', '09058094599', '09058095107', '09058095201', '09058097189', '09058097218', '09058098002', '09058099801', '09061104276', '09061104283', '09061209465', '09061213237', '09061221061', '09061221066', '09061701444', '09061701461', '09061701851', '09061701939', '09061702893', '09061743386', '09061743806', '09061743810', '09061743811', '09061744553', '09061749602', '09061790121', '09061790125', '09061790126', '09063440451', '09063442151', '09063458130', '0906346330', '09064011000', '09064012103', '09064012160', '09064015307', '09064017295', '09064017305', '09064018838', '09064019014', '09064019788', '09065069120', '09065069154', '09065171142', '09065174042', '09065394514', '09065394973', '09065989180', '09065989182', '09066350750', '09066358152', '09066358361', '09066361921', '09066362206', '09066362220', '09066362231', '09066364311', '09066364349', '09066364589', '09066368327', '09066368470', '09066368753', '09066380611', '09066382422', '09066612661', '09066649731from', '09066660100', '09071512432', '09071512433', '09071517866', '09077818151', '09090204448', '09090900040', '09094100151', '09094646631', '09094646899', '09095350301', '09096102316', '09099725823', '09099726395', '09099726429', '09099726481', '09099726553', '09111030116', '09111032124', '09701213186', '0a', '10', '100', '1000', '1000call', '1000s', '100p', '100percent', '100txt', '1013', '10am', '10k', '10p', '10ppm', '10th', '11', '113', '1131', '114', '1172', '118p', '11mths', '11pm', '12', '120p', '121', '1225', '123', '125', '1250', '125gift', '12hours', '12hrs', '12mths', '13', '1327', '139', '14', '140ppm', '145', '1450', '146tf150p', '14tcr', '14thmarch', '150', '1500', '150p', '150p16', '150pm', '150ppermesssubscription', '150ppm', '150ppmpobox10183bhamb64xe', '150ppmsg', '150pw', '151', '153', '15541', '16', '165', '169', '177', '18', '18p', '18yrs', '195', '1956669', '1b6a5ecef91ff9', '1da', '1er', '1million', '1st', '1st4terms', '1stchoice', '1win150ppmx3', '1winaweek', '1winawk', '1x150p', '1yf', '20', '200', '2000', '2003', '2004', '2005', '2006', '2007', '200p', '2025050', '20m12aq', '20p', '21', '21870000', '21st', '22', '220', '220cm2', '2309', '23f', '23g', '24', '24hrs', '24m', '25', '250', '250k', '25p', '26', '2667', '26th', '27', '28', '2814032', '28days', '28th', '28thfeb', '29', '2c', '2channel', '2day', '2end', '2exit', '2ez', '2find', '2kbsubject', '2lands', '2moro', '2morow', '2morro', '2nd', '2nights', '2nite', '2optout', '2p', '2price', '2px', '2rcv', '2stop', '2stoptx', '2stoptxt', '2u', '2wks', '2wt', '2wu', '2yr', '30', '300', '3000', '300603', '300603t', '300p', '3030', '30apr', '30pp', '30s', '30th', '31', '3100', '310303', '31p', '32', '32000', '32323', '326', '33', '350', '3510i', '35p', '3650', '36504', '3680', '373', '3750', '37819', '38', '391784', '3aj', '3g', '3gbp', '3hrs', '3lions', '3lp', '3mins', '3mobile', '3pound', '3qxj9', '3ss', '3uz', '3xx', '3xå', '40', '400', '400mins', '402', '4041', '40411', '40533', '40gb', '41685', '41782', '42049', '4217', '42478', '42810', '434', '44', '440', '4403ldnw1a7rw18', '44345', '447797706009', '447801259231', '448712404000', '449050000301', '449071512431', '45', '450', '450p', '450pw', '45239', '47', '4719', '4742', '4882', '48922', '49', '49557', '4fil', '4goten', '4info', '4jx', '4msgs', '4mths', '4qf2', '4t', '4txt', '4u', '4utxt', '4xx26', '50', '500', '5000', '505060', '50award', '50ea', '50gbp', '50p', '50perweeksub', '50perwksub', '50pm', '50pmmorefrommobile2bremoved', '50ppm', '50rcvd', '5226', '523', '526', '528', '54', '542', '5free', '5k', '5p', '5wb', '5we', '5wq', '600', '6031', '6089', '60p', '61200', '61610', '62220cncl', '6230', '62468', '62735', '6669', '674', '68866', '69101', '69200', '69669', '69696', '69698', '69855', '69866', '69876', '69888', '69888nyt', '69911', '69969', '69988', '6days', '6hl', '6months', '6wu', '6zf', '71', '7250', '7250i', '731', '74355', '75', '750', '7548', '75max', '762', '7634', '7684', '77', '7732584351', '78', '786', '7876150ppm', '79', '7cfca1a', '7mp', '7pm', '7ws', '7zs', '80', '800', '8000930705', '80062', '8007', '80082', '80086', '80122300p', '80155', '80160', '80182', '8027', '80488', '80608', '8077', '80878', '81010', '81151', '81303', '81618', '82050', '820554ad0a1705572711', '82242', '82277', '82324', '82468', '83021', '83039', '83049', '83110', '83118', '83222', '83332', '83338', '83355', '83370', '83383', '83435', '83600', '83738', '84', '84025', '84122', '84128', '84199', '84484', '85', '85023', '85069', '85222', '85233', '8552', '85555', '86021', '861', '864233', '86688', '86888', '87021', '87066', '87070', '87077', '87121', '87131', '8714714', '872', '87239', '87575', '8800', '88039', '88066', '88088', '88222', '88600', '88800', '8883', '88877', '88888', '89034', '89070', '89080', '89105', '89123', '89545', '89555', '89693', '89938', '8ball', '8p', '8pm', '8wp', '900', '9061100010', '910', '9153', '9280114', '9307622', '946', '9755', '9758', '97n7qp', '99', '9996', '9ae', '9am', '9pm', '9th', '9yt', 'a21', 'ab', 'aberdeen', 'about', 'abroad', 'abta', 'abuse', 'ac', 'access', 'accessible', 'accident', 'accommodation', 'accommodationvouchers', 'accordingly', 'account', 'acl03530150pm', 'aco', 'action', 'activ8', 'activate', 'active', 'adam', 'addamsfa', 'added', 'address', 'admirer', 'adp', 'adrian', 'ads', 'adult', 'advise', 'advisors', 'afraid', 'after', 'ag', 'again', 'age', 'age16', 'age23', 'agent', 'ages', 'airport', 'akon', 'alert', 'alertfrom', 'alerts', 'alfie', 'algarve', 'all', 'allow', 'alone', 'along', 'already', 'also', 'alto18', 'am', 'amanda', 'amazing', 'among', 'amy', 'an', 'and', 'animation', 'annoncement', 'announcement', 'anonymous', 'another', 'ans', 'ansr', 'answer', 'any', 'anyone', 'anytime', 'aom', 'app', 'applausestore', 'apply', 'approx', 'arcade', 'are', 'area', 'areyouunique', 'aries', 'around', 'arrange', 'arrive', 'arrow', 'arsenal', 'artists', 'as', 'asap', 'asian', 'asjesus', 'asked', 'asp', 'at', 'attempt', 'auction', 'august', 'australia', 'availa', 'available', 'avble', 'ave', 'await', 'awaiting', 'award', 'awarded', 'away', 'axel', 'aå', 'b4', 'b4190604', 'b4280703', 'b4u', 'b4utele', 'ba128nnfwfly150ppm', 'babe', 'babes', 'baby', 'babygoodbye', 'back', 'backdoor', 'bad', 'badass', 'bahamas', 'bailiff', 'balance', 'band', 'bangb', 'bangbabes', 'bank', 'banned', 'banneduk', 'barbie', 'barkleys', 'barry', 'bbc', 'bbdeluxe', 'bcm', 'bcm1896wc1n3xx', 'bcm4284', 'bcmsfwc1n3xx', 'be', 'bears', 'because', 'becausethey', 'become', 'bedroom', 'been', 'before', 'beg', 'begin', 'being', 'believe', 'ben', 'benefits', 'bergkamp', 'best', 'better', 'between', 'beware', 'bid', 'bids', 'big', 'biggest', 'bill', 'billed', 'billing', 'bin', 'birds', 'birthday', 'bitch', 'biz', 'black', 'blind', 'block', 'bloke', 'blonde', 'bloomberg', 'blow', 'blu', 'blue', 'bluetooth', 'bluetoothhdset', 'bob', 'boltblue', 'bonus', 'book', 'booking', 'bookmark', 'bootydelious', 'bored', 'borin', 'bought', 'bout', 'box', 'box1146', 'box139', 'box177', 'box245c2150pm', 'box326', 'box334', 'box334sk38ch', 'box385', 'box39822', 'box403', 'box420', 'box42wr29c', 'box434sk38wp150ppm18', 'box61', 'box95qu', 'box97n7qp', 'boys', 'brand', 'bray', 'break', 'breaker', 'breaks', 'breath', 'breathe1', 'bridal', 'bringing', 'brings', 'british', 'britney', 'brother', 'brought', 'browse', 'bt', 'bubbletext', 'buddys', 'buffy', 'bulbs', 'bundle', 'burger', 'burns', 'busty', 'busy', 'but', 'buy', 'bx', 'bx420', 'bx526', 'by', 'c52', 'cal', 'call', 'call09050000327', 'call2optout', 'callback', 'callcost', 'callcost150ppmmobilesvary', 'called', 'caller', 'callfreefone', 'calling', 'calls', 'calls1', 'callså', 'cam', 'camcorder', 'came', 'camera', 'can', 'canary', 'cancel', 'canname', 'cant', 'capital', 'card', 'care', 'career', 'careers', 'careful', 'carlie', 'cash', 'cashbin', 'cashto', 'cast', 'cc', 'cc100p', 'cd', 'cdgt', 'cds', 'celeb', 'center', 'cha', 'challenge', 'champneys', 'chance', 'chances', 'changed', 'channel', 'chaps', 'charge', 'charged', 'charges', 'charity', 'chart', 'charts', 'chasing', 'chat', 'chat80155', 'chatlines', 'chatter', 'chatting', 'cheap', 'cheaper', 'check', 'chg', 'chgs', 'chik', 'child', 'children', 'chit', 'chloe', 'choice', 'choose', 'chosen', 'chrgd', 'christmas', 'cinema', 'city', 'claim', 'claimcode', 'claims', 'claire', 'class', 'classic', 'click', 'clip', 'close', 'closingdate04', 'club', 'club4', 'club4mobiles', 'clubmoby', 'clubsaisai', 'clubzed', 'cm', 'cm2', 'cmon', 'cnl', 'cnupdates', 'co', 'coca', 'cock', 'code', 'coincidence', 'cola', 'colin', 'collect', 'collected', 'collection', 'colour', 'colours', 'com', 'com1win150ppmx3age16', 'com1win150ppmx3age16subscription', 'come', 'comes', 'community', 'comp', 'companies', 'company', 'compare', 'compensation', 'competition', 'complementary', 'complete', 'completely', 'complimentary', 'computer', 'comuk', 'conacted', 'concert', 'condition', 'conditions', 'confirm', 'congrats', 'congratulations', 'connect', 'connected', 'connection', 'console', 'contact', 'contacted', 'content', 'continued', 'contract', 'cool', 'cops', 'cornwall', 'correct', 'cost', 'costa', 'costing', 'costs', 'costå', 'could', 'country', 'couple', 'cr01327bt', 'cr9', 'crazy', 'crazyin', 'created', 'credit', 'credited', 'credits', 'cro1327', 'cross', 'croydon', 'cruise', 'cs', 'csbcm4235wc1n3xx', 'csc', 'csh11', 'cst', 'ctxt', 'cum', 'cumin', 'cup', 'current', 'currently', 'cust', 'custcare', 'customer', 'customercare', 'customers', 'customersqueries', 'cute', 'cw25wx', 'd3wv', 'daily', 'dark', 'darkest', 'darling', 'dartboard', 'date', 'datebox1282essexcm61xn', 'dates', 'dating', 'dave', 'day', 'days', 'daytime', 'dbuk', 'deals', 'dear', 'december', 'deck', 'deepest', 'definitely', 'del', 'delivered', 'deliveredtomorrow', 'delivery', 'deltomorrow', 'deluxe', 'dena', 'dept', 'details', 'detroit', 'devils', 'dial', 'dialling', 'dick', 'did', 'died', 'digital', 'digits', 'dining', 'direct', 'dirtiest', 'dirty', 'dis', 'disaster', 'discount', 'discreet', 'divorce', 'dizzee', 'dload', 'do', 'dob', 'does', 'doggin', 'dogging', 'dogs', 'doit', 'don', 'donate', 'done', 'dont', 'dontcha', 'door', 'dorothy', 'dot', 'double', 'doublemins', 'doubles', 'doubletxt', 'down', 'download', 'downloaded', 'downloads', 'dozens', 'dps', 'dracula', 'draw', 'draws', 'dream', 'drinks', 'driving', 'drop', 'drvgsto', 'duchess', 'due', 'during', 'dvd', 'e14', 'each', 'eastenders', 'easter', 'easy', 'ec2a', 'echo', 'ecstacy', 'eerie', 'efreefone', 'eg', 'eh74rr', 'eire', 'either', 'else', 'elvis', 'em', 'email', 'emc1', 'end', 'ending', 'ends', 'energy', 'eng', 'england', 'enjoy', 'enjoyed', 'enough', 'enter', 'entered', 'entitled', 'entry', 'entry41', 'envelope', 'erotic', 'error', 'etc', 'etlp', 'euro', 'euro2004', 'eurodisinc', 'europe', 'eve', 'even', 'evening', 'ever', 'every', 'everyone', 'exciting', 'exorcist', 'exp', 'experiencehttp', 'expired', 'expires', 'expiry', 'explicit', 'explosive', 'expressoffer', 'extra', 'extreme', 'eye', 'eyed', 'eå', 'f4q', 'fa', 'fact', 'failed', 'fall', 'fancies', 'fancy', 'fans', 'fantasies', 'fantastic', 'fantasy', 'farrell', 'fast', 'faster', 'fastest', 'fav', 'features', 'feb', 'feelin', 'feeling', 'female', 'fgkslpo', 'fgkslpopw', 'fifa', 'film', 'films', 'filth', 'filthy', 'filthyguys', 'final', 'finally', 'find', 'finest', 'fink', 'first', 'fit', 'five', 'fixed', 'fixedline', 'flag', 'flight', 'flights', 'flirt', 'flirting', 'flirtparty', 'floppy', 'flower', 'flowers', 'flyng', 'fm', 'fml', 'foley', 'folks', 'follow', 'followed', 'following', 'follows', 'fone', 'fones', 'football', 'footy', 'for', 'forget', 'format', 'forwarded', 'forå', 'found', 'four', 'fraction', 'free', 'free2day', 'freeentry', 'freefone', 'freemsg', 'freephone', 'fri', 'friend', 'friends', 'frnd', 'frog', 'from', 'fromm', 'fun', 'fund', 'funk', 'funky', 'further', 'future', 'g2', 'g696ga', 'gage', 'gamb', 'game', 'games', 'gamestar', 'garden', 'gay', 'gaytextbuddy', 'gbp', 'gbp1', 'gbp4', 'gbp5', 'gender', 'gent', 'genuine', 'george', 'germany', 'get', 'getstop', 'gettin', 'getting', 'getzed', 'ghost', 'gift', 'gigolo', 'girl', 'girls', 'giv', 'give', 'giving', 'glad', 'global', 'gmw', 'gnarls', 'go', 'go2', 'goal', 'goals', 'god', 'going', 'gold', 'golddigger', 'goldviking', 'golf', 'good', 'goodies', 'gossip', 'got', 'gotbabes', 'goto', 'gotto', 'gprs', 'gr8', 'gr8prizes', 'granite', 'graphics', 'gravel', 'great', 'green', 'greet', 'growing', 'gsex', 'gsoh', 'guaranteed', 'guess', 'guys', 'hack', 'had', 'half', 'halloween', 'handset', 'happy', 'hard', 'hardcore', 'harry', 'has', 'hava', 'have', 'haven', 'havin', 'headset', 'hear', 'heard', 'heart', 'held', 'helen', 'hello', 'help', 'help08700621170150p', 'help08714742804', 'help08718728876', 'helpline', 'henry', 'her', 'here', 'heroes', 'herself', 'hey', 'hf8', 'hg', 'hi', 'hide', 'high', 'highest', 'him', 'his', 'hit', 'hl', 'hlp', 'hmmross', 'hmv', 'hmv1', 'hockey', 'hol', 'holder', 'holiday', 'hols', 'home', 'homeowners', 'hoody', 'hope', 'horniest', 'horny', 'horo', 'hot', 'hotel', 'hotels', 'hotmix', 'hottest', 'hours', 'house', 'housewives', 'how', 'however', 'hp20', 'hrs', 'html', 'http', 'hubby', 'hungry', 'hunks', 'hurry', 'hv9d', 'hvae', 'ibh', 'ibhltd', 'ibiza', 'ice', 'icmb3cktz8r7', 'id', 'identifier', 'idew', 'idiot', 'if', 'ig11', 'ignore', 'ill', 'im', 'img', 'immediately', 'important', 'improved', 'in', 'in2', 'inc', 'inclu', 'include', 'inclusive', 'incorrect', 'incredible', 'increments', 'index', 'india', 'indicate', 'info', 'information', 'informed', 'install', 'instant', 'instantly', 'instructions', 'interested', 'interflora', 'internet', 'into', 'invaders', 'invited', 'inviting', 'ip4', 'ipod', 'is', 'iscoming', 'islands', 'issues', 'it', 'itcould', 'items', 'its', 'j5q', 'j89', 'jackpot', 'james', 'jamster', 'jamz', 'jane', 'janinexx', 'january', 'java', 'jeri', 'jersey', 'jocks', 'join', 'joined', 'jordan', 'jorge', 'jsco', 'jst', 'jul', 'july', 'june', 'just', 'k52', 'k61', 'k718', 'karaoke', 'kath', 'keep', 'ken', 'kept', 'key', 'keyword', 'kick', 'kickoff', 'kiefer', 'kinda', 'king', 'kingdom', 'kiosk', 'kit', 'kl341', 'knickers', 'knock', 'know', 'knows', 'l8er', 'la1', 'la3', 'la32wu', 'ladies', 'laid', 'land', 'landline', 'landlineonly', 'landlines', 'landmark', 'lapdancer', 'large', 'largest', 'last', 'lastest', 'late', 'latest', 'latests', 'laugh', 'lccltd', 'ldew', 'ldn', 'ldnw15h', 'le', 'leadership', 'leading', 'learn', 'leave', 'left', 'legitimat', 'let', 'lets', 'lf56', 'libertines', 'life', 'lifetime', 'like', 'lily', 'line', 'linerental', 'lines', 'lingerie', 'link', 'lionm', 'lionp', 'lions', 'listen', 'listening', 'little', 'live', 'liverpool', 'living', 'lkpobox177hp51fl', 'll', 'llc', 'lnly', 'loads', 'loan', 'loans', 'local', 'locations', 'log', 'login', 'logo', 'logon', 'logos', 'london', 'lonely', 'look', 'lookatme', 'lookin', 'looking', 'lord', 'lose', 'lost', 'lotr', 'lots', 'lounge', 'love', 'lover', 'low', 'loyal', 'loyalty', 'ls1', 'ls15hb', 'ls278bb', 'ltd', 'ltdhelpdesk', 'luck', 'lucky', 'lucozade', 'lucy', 'luv', 'lux', 'luxury', 'lyricalladie', 'm221bp', 'm227xy', 'm26', 'm263uz', 'm39m51', 'm6', 'm60', 'm8', 'm8s', 'm95', 'macedonia', 'mad1', 'mad2', 'made', 'mailbox', 'make', 'male', 'man', 'manchester', 'mandy', 'maniac', 'many', 'margin', 'marketing', 'marley', 'married', 'marsms', 'marvel', 'masked', 'mat', 'match', 'matched', 'matches', 'mates', 'matrix3', 'matthew', 'max10mins', 'max6', 'maximize', 'maximum', 'maxå', 'may', 'maybe', 'mcfly', 'me', 'meal', 'med', 'meet', 'meetins', 'meg', 'mega', 'member', 'members', 'membership', 'men', 'mens', 'menu', 'message', 'messages', 'messaging', 'met', 'mf', 'mfl', 'mgs', 'mid', 'midnight', 'mila', 'min', 'minapn', 'mind', 'minded', 'mini', 'minmobsmore', 'minmobsmorelkpobox177hp51fl', 'minmoremobsemspobox45po139wa', 'mins', 'minute', 'minutes', 'miss', 'missed', 'missing', 'mistake', 'mix', 'mjzgroup', 'mk45', 'mmsto', 'mnth', 'mnths', 'moan', 'mob', 'mobcudb', 'mobile', 'mobiles', 'mobilesdirect', 'mobilesvary', 'mobileupd8', 'mobno', 'mobs', 'mobsi', 'mobstorequiz10ppm', 'moby', 'mobypobox734ls27yf', 'money', 'mono', 'monoc', 'monos', 'month', 'monthly', 'monthlysubscription', 'months', 'moon', 'more', 'morefrmmob', 'most', 'motorola', 'movie', 'movietrivia', 'mp3', 'mquiz', 'mr', 'mre', 'msg', 'msg150p', 'msgrcvd', 'msgrcvd18', 'msgrcvdhg', 'msgs', 'mt', 'mtalk', 'mth', 'mths', 'mtmsg', 'mtmsg18', 'mtmsgrcvd18', 'much', 'munsters', 'music', 'musicnews', 'must', 'mustprovide', 'my', 'mymoby', 'mystery', 'n9dx', 'naked', 'name', 'name1', 'name2', 'names', 'nasdaq', 'nasty', 'nat', 'nat27081980', 'natalie', 'natalie2k9', 'natalja', 'national', 'nd', 'nearly', 'need', 'needs', 'neo69', 'net', 'netcollex', 'netun', 'netvision', 'network', 'networks', 'never', 'new', 'newest', 'news', 'newsletter', 'next', 'nichols', 'nick', 'night', 'nights', 'nikiyu4', 'no', 'no1', 'nok', 'nokia', 'nokia6600', 'nokia6650', 'nokias', 'noline', 'nookii', 'norcorp', 'norm', 'norm150p', 'normal', 'nos', 'not', 'nothing', 'notice', 'notifications', 'notified', 'notxt', 'november', 'now', 'now1', 'noworriesloans', 'nr31', 'nt', 'ntt', 'ntwk', 'number', 'numbers', 'ny', 'nyt', 'o2', 'o2fwd', 'of', 'off', 'offer', 'offering', 'offers', 'office', 'official', 'ofå', 'oh', 'oja', 'ok', 'okmail', 'old', 'olympics', 'on', 'oncall', 'one', 'ones', 'only', 'onto', 'open', 'operator', 'opinions', 'opt', 'optin', 'optout', 'or', 'or2optout', 'or2stoptxt', 'orange', 'oranges', 'order', 'ordered', 'org', 'orig', 'original', 'orno', 'otbox', 'other', 'ou', 'our', 'out', 'outbid', 'outgoing', 'over', 'ow', 'oz', 'package', 'packs', 'page', 'paid', 'panasonic', 'panther', 'paris', 'park', 'part', 'parties', 'partner', 'pass', 'passes', 'passion', 'password', 'pause', 'pay', 'paying', 'pc', 'pdate_now', 'peak', 'pence', 'people', 'per', 'perfect', 'persolvo', 'person', 'personal', 'pete', 'petticoatdreams', 'pg', 'ph', 'phb1', 'phoenix', 'phone', 'phone750', 'phones', 'phony', 'photo', 'php', 'pic', 'pick', 'picked', 'pics', 'picsfree1', 'picture', 'pin', 'pink', 'pix', 'place', 'planettalkinstant', 'play', 'played', 'player', 'please', 'pleased', 'pls', 'plus', 'plyr', 'pm', 'po', 'po19', 'pobox', 'pobox1', 'pobox114', 'pobox12n146tf15', 'pobox12n146tf150p', 'pobox202', 'pobox334', 'pobox36504w45wq', 'pobox365o4w45wq', 'pobox45w2tg150p', 'pobox75ldns7', 'pobox84', 'poboxox36504w45wq', 'pocketbabe', 'pod', 'points', 'pole', 'police', 'polo', 'poly', 'poly3', 'polyc', 'polyh', 'polyph', 'polyphonic', 'polys', 'popcorn', 'porn', 'posh', 'post', 'postcode', 'posts', 'potential', 'potter', 'pound', 'pounds', 'ppm', 'ppm150', 'ppt150x3', 'pre', 'prem', 'premier', 'premium', 'prepayment', 'prescripiton', 'presence', 'president', 'presleys', 'press', 'previous', 'previously', 'price', 'privacy', 'private', 'prize', 'prizeawaiting', 'prizes', 'prizeswith', 'pro', 'processed', 'prods', 'professional', 'profit', 'promised', 'promo', 'promotion', 'prompts', 'provided', 'proze', 'psp', 'psychic', 'pt2', 'pub', 'purchase', 'purpose', 'pushbutton', 'put', 'på', 'qjkgighjjgcbl', 'qlynnbv', 'quality', 'queries', 'question', 'questions', 'quiz', 'quizclub', 'quote', 'quoting', 'r836', 'racal', 'radio', 'rally', 'randomly', 'randy', 'rate', 'rates', 'rayman', 'rcd', 'rct', 'rcv', 'rcvd', 're', 'reach', 'read', 'readers', 'ready', 'real', 'real1', 'reality', 'realize', 'really', 'rec', 'recd', 'receipt', 'receive', 'receivea', 'received', 'receiving', 'recent', 'recently', 'recieve', 'recorder', 'records', 'recpt', 'red', 'redeemable', 'redeemed', 'ree', 'ref', 'reference', 'refunded', 'refused', 'regalportfolio', 'regard', 'register', 'registered', 'regular', 'released', 'reminder', 'removal', 'remove', 'removed', 'renewal', 'renewed', 'renewing', 'rental', 'rentl', 'repeat', 'replied', 'replies', 'reply', 'replying', 'replys150', 'representative', 'request', 'requests', 'resent', 'respond', 'responding', 'response', 'responsible', 'restrictions', 'resubmit', 'results', 'retrieve', 'return', 'reveal', 'revealed', 'review', 'reward', 'rg21', 'rgds', 'rgent', 'right', 'ring', 'rings', 'ringtone', 'ringtoneking', 'ringtones', 'ringtoneåá', 'ripped', 'rock', 'rodds1', 'rodger', 'romantic', 'romcapspam', 'rooms', 'roses', 'round', 'row', 'rp176781', 'rpl', 'rply', 'rstm', 'rt', 'rtf', 'rude', 'running', 'rwm', 's3xy', 's89', 'sae', 'sale', 'sam', 'same', 'sang', 'santa', 'santacalling', 'sara', 'saristar', 'sat', 'satisfy', 'saturday', 'saucy', 'savamob', 'save', 'scallies', 'scammers', 'schedule', 'scores', 'scoring', 'scotland', 'scotsman', 'search', 'season', 'secret', 'secretly', 'secs', 'secured', 'sed', 'see', 'seeds', 'seem', 'select', 'selected', 'selection', 'self', 'selling', 'send', 'sender', 'sending', 'sent', 'sept', 'service', 'services', 'servs', 'set', 'settings', 'sex', 'sexiest', 'sextextuk', 'sexual', 'sexy', 'sexychat', 'sf', 'shag', 'shagged', 'shinco', 'shit', 'shock', 'shop', 'shopping', 'shortbreaks', 'shortcode', 'shortly', 'shot', 'should', 'show', 'shows', 'shracomorsglsuplt', 'shsex', 'shy', 'sic', 'sign', 'sim', 'simonwatson5120', 'simple', 'simply', 'simpsons', 'since', 'sing', 'single', 'singles', 'sipix', 'sir', 'six', 'sk3', 'sk38xh', 'skilgme', 'skillgame', 'skills', 'skins', 'skip', 'sky', 'sleepingwith', 'slide', 'slo', 'slow', 'slower', 'smart', 'smartcall', 'smashed', 'smith', 'sms', 'smsco', 'smsrewards', 'smsservices', 'sn', 'snap', 'snappy', 'so', 'soiree', 'sol', 'some', 'somebody', 'someone', 'someonone', 'song', 'sony', 'sonyericsson', 'soon', 'sorry', 'sort', 'sound', 'sounds', 'soundtrack', 'sp', 'space', 'spam', 'spanish', 'sparkling', 'speak', 'special', 'speciale', 'specially', 'speed', 'speedchat', 'sphosting', 'spider', 'spjanuary', 'splashmobile', 'spook', 'sport', 'sports', 'sppok', 'spree', 'sptv', 'st', 'stadium', 'stamped', 'standard', 'star', 'stars', 'start', 'started', 'starting', 'starts', 'starwars3', 'statement', 'station', 'stay', 'std', 'stdtxtrate', 'stereophonics', 'stewartsize', 'sticky', 'still', 'stockport', 'stolen', 'stop', 'stop2', 'stop2stop', 'stopbcm', 'stopcost', 'stopcs', 'stopsms', 'stoptxtstopå', 'store', 'stories', 'str', 'str8', 'straight', 'stream', 'street', 'strings', 'strip', 'strokes', 'strong', 'strt', 'stuff', 'sub', 'subject', 'subpoly', 'subs', 'subs16', 'subscribe', 'subscribe6gbp', 'subscribed', 'subscriber', 'subscribers', 'subscription', 'subscriptions', 'subscriptn3gbp', 'subscrition', 'subsequent', 'sue', 'sufficient', 'sugababes', 'suite', 'suite342', 'sullivan', 'summer', 'summers', 'sun0819', 'sunshine', 'super', 'superb', 'suppliers', 'supply', 'support', 'suprman', 'surprise', 'survey', 'suzy', 'svc', 'sw7', 'sw73ss', 'swap', 'swat', 'switch', 'symbol', 't91', 'ta', 'take', 'takes', 'taking', 'talk', 'tariffs', 'tarot', 'tattoos', 'tb', 'tbs', 'tc', 'tcr', 'tcs', 'tddnewsletter', 'team', 'teenager', 'tel', 'telediscount', 'telephone', 'teletext', 'tell', 'tells', 'ten', 'tenants', 'tenerife', 'term', 'terms', 'termsapply', 'text', 'text82228', 'textand', 'textbuddy', 'textcomp', 'texting', 'textoperator', 'textpod', 'texts', 'tgxxrz', 'than', 'thank', 'thanks', 'that', 'the', 'thedailydraw', 'their', 'theirs', 'them', 'themob', 'then', 'there', 'these', 'thesmszone', 'they', 'thing', 'things', 'think', 'thinks', 'thirtyeight', 'this', 'thnq', 'though', 'thought', 'thousands', 'thurs', 'ticket', 'tickets', 'tiger', 'till', 'time', 'tips', 'title', 'titles', 'tkls', 'tkts', 'tlp', 'tms', 'tnc', 'tncs', 'to', 'toclaim', 'today', 'todays', 'toilet', 'tom', 'tomorrow', 'tone', 'tones', 'tones2u', 'tones2you', 'tonexs', 'tonight', 'tonights', 'tons', 'too', 'tooth', 'top', 'topped', 'toppoly', 'total', 'totally', 'touch', 'tour', 'town', 'toxic', 'trackmarque', 'trained', 'transferred', 'trav', 'travel', 'trebles', 'trial', 'tried', 'trip', 'triple', 'trivia', 'true', 'true18', 'trueåác', 'truly', 'try', 'trying', 'ts', 'tsandcs', 'tscs', 'tscs08714740323', 'tscs087147403231winawk', 'tsunami', 'tulip', 'tune', 'turn', 'tv', 'twilight', 'twinks', 'two', 'txt', 'txt250', 'txt43', 'txt82228', 'txtauction', 'txtin', 'txting', 'txtno', 'txts', 'txtstar', 'txtstop', 'txttowin', 'txtx', 'types', 'tyrone', 'u4', 'uk', 'ukp', 'uks', 'ultimate', 'un', 'unable', 'unbreakable', 'unclaimed', 'unicef', 'unique', 'united', 'unkempt', 'unlimited', 'unredeemed', 'unsecured', 'unsub', 'unsubscribe', 'unsubscribed', 'untamed', 'until', 'up', 'upd8', 'update', 'update_now', 'upgrade', 'upgrading', 'upgrdcentre', 'upload', 'upto', 'uptown', 'ur', 'urawinner', 'urgent', 'us', 'usa', 'use', 'used', 'user', 'usher', 'using', 'uve', 'valentine', 'valentines', 'valid', 'valid12hrs', 'valued', 'various', 'vary', 'vat', 'vatian', 'vco', 've', 'verify', 'very', 'via', 'vid', 'video', 'videochat', 'videophones', 'videos', 'videosound', 'videosounds', 'villa', 'village', 'violet', 'vip', 'vipclub4u', 'virgin', 'virgins', 'visionsms', 'visit', 'voda', 'vodafone', 'voicemail', 'vote', 'vouch4me', 'voucher', 'vouchers', 'vpod', 'vu', 'w1', 'w111wx', 'w14rg', 'w1a', 'w1j', 'w1j6hl', 'w1jhl', 'w1t1jy', 'w4', 'w45wq', 'w8in', 'wa14', 'wait', 'waiting', 'wales', 'walk', 'wallpaper', 'wamma', 'wan', 'wan2', 'wanna', 'want', 'wanting', 'wants', 'wap', 'warm', 'warner', 'warranty', 'was', 'wat', 'wave', 'way', 'wc1n', 'wc1n3xx', 'we', 'web', 'web2mobile', 'webeburnin', 'website', 'wed', 'wedding', 'weddingfriend', 'week', 'weekend', 'weekends', 'weekly', 'weeks', 'welcome', 'well', 'were', 'westlife', 'wet', 'what', 'whats', 'when', 'where', 'which', 'while', 'who', 'whose', 'why', 'wicklow', 'wid', 'widelive', 'wife', 'wild', 'wildest', 'will', 'willing', 'win', 'win150ppmx3age16', 'wings', 'wining', 'winner', 'winnersclub', 'wins', 'wire3', 'wish', 'with', 'wither', 'within', 'wiv', 'wk', 'wkend', 'wkent', 'wkly', 'wks', 'wml', 'woman', 'women', 'won', 'woods', 'word', 'work', 'world', 'worlds', 'worth', 'wot', 'would', 'wow', 'wrc', 'wrote', 'wtlp', 'www', 'x29', 'x49', 'xafter', 'xchat', 'xclusive', 'xmas', 'xt', 'xx', 'xxsp', 'xxuk', 'xxx', 'xxxmobilemovieclub', 'xxxx', 'xxxxx', 'xxxxxx', 'y87', 'ya', 'yahoo', 'yards', 'yeah', 'year', 'years', 'yer', 'yes', 'yesterday', 'yet', 'yhl', 'ymca', 'yo', 'you', 'your', 'yourinclusive', 'yours', 'yourself', 'yr', 'yrs', 'zebra', 'zed', 'zoe', 'zouk', 'åòharry', 'åòit', 'ì¼1', 'ûªve', 'ûï', 'ûïharry']\n"
          ],
          "name": "stdout"
        }
      ]
    },
    {
      "cell_type": "code",
      "metadata": {
        "id": "0C9HeLFqzMf8",
        "colab_type": "code",
        "colab": {}
      },
      "source": [
        "def istext(all_spam_words):\n",
        "  count = 0\n",
        "  for i in all_spam_words:\n",
        "    if i.isalpha():\n",
        "      count = count +1\n",
        "  return count"
      ],
      "execution_count": 0,
      "outputs": []
    },
    {
      "cell_type": "code",
      "metadata": {
        "id": "qHVk3ioaz3KK",
        "colab_type": "code",
        "outputId": "91a39e0e-870f-4029-f4b0-379a1d46760b",
        "colab": {
          "base_uri": "https://localhost:8080/",
          "height": 34
        }
      },
      "source": [
        "no_of_texts = istext(all_spam_words)\n",
        "print(no_of_texts)"
      ],
      "execution_count": 0,
      "outputs": [
        {
          "output_type": "stream",
          "text": [
            "1927\n"
          ],
          "name": "stdout"
        }
      ]
    },
    {
      "cell_type": "markdown",
      "metadata": {
        "id": "355sc8xn1KvF",
        "colab_type": "text"
      },
      "source": [
        "### *Percentage of text in Spam Data:*"
      ]
    },
    {
      "cell_type": "code",
      "metadata": {
        "id": "ZXogWXBc1XIT",
        "colab_type": "code",
        "outputId": "523bf22e-fbc9-4674-fc43-552a98c91edc",
        "colab": {
          "base_uri": "https://localhost:8080/",
          "height": 34
        }
      },
      "source": [
        "print(\"Percentage of text in SPAM Data is {}%\".format(round(((no_of_texts/len(all_spam_words))*100),2)))"
      ],
      "execution_count": 0,
      "outputs": [
        {
          "output_type": "stream",
          "text": [
            "Percentage of text in SPAM Data is 67.21%\n"
          ],
          "name": "stdout"
        }
      ]
    },
    {
      "cell_type": "markdown",
      "metadata": {
        "id": "qnIh-icwoSjW",
        "colab_type": "text"
      },
      "source": [
        "## Question-2:\n",
        "### *Using count Vectorizer, fit the train data(70(ratio)).In the vocabulary got,find the longest token present.*"
      ]
    },
    {
      "cell_type": "code",
      "metadata": {
        "id": "YrfGXrmEBdW3",
        "colab_type": "code",
        "outputId": "656cd0c0-2bea-4a27-8fd1-d3db75f89f7b",
        "colab": {
          "base_uri": "https://localhost:8080/",
          "height": 123
        }
      },
      "source": [
        "# Filtering the spam and ham mails and marking the spam as 1 and the others as 0.\n",
        "#emails_v1.target[emails_v1.target == 'spam'] = 1\n",
        "#emails_v1.target[emails_v1.target == 'ham'] = 0\n",
        "#Giving Warning Alternative is: \n",
        "emails_v1['target'] = emails_v1.target.map({'spam':1,'ham':0})"
      ],
      "execution_count": 0,
      "outputs": [
        {
          "output_type": "stream",
          "text": [
            "/usr/local/lib/python3.6/dist-packages/ipykernel_launcher.py:1: SettingWithCopyWarning: \n",
            "A value is trying to be set on a copy of a slice from a DataFrame.\n",
            "Try using .loc[row_indexer,col_indexer] = value instead\n",
            "\n",
            "See the caveats in the documentation: http://pandas.pydata.org/pandas-docs/stable/indexing.html#indexing-view-versus-copy\n",
            "  \"\"\"Entry point for launching an IPython kernel.\n"
          ],
          "name": "stderr"
        }
      ]
    },
    {
      "cell_type": "code",
      "metadata": {
        "id": "-o77VG1iGc1H",
        "colab_type": "code",
        "outputId": "00d1638a-e11f-492b-8ba0-1a9399b1c4c3",
        "colab": {
          "base_uri": "https://localhost:8080/",
          "height": 123
        }
      },
      "source": [
        "emails_v1['target'].head()"
      ],
      "execution_count": 0,
      "outputs": [
        {
          "output_type": "execute_result",
          "data": {
            "text/plain": [
              "0    0\n",
              "1    0\n",
              "2    1\n",
              "3    0\n",
              "4    0\n",
              "Name: target, dtype: int64"
            ]
          },
          "metadata": {
            "tags": []
          },
          "execution_count": 148
        }
      ]
    },
    {
      "cell_type": "code",
      "metadata": {
        "id": "aFHadtc8Fq3Q",
        "colab_type": "code",
        "outputId": "eedaf78a-4994-437c-db0f-1d295c322d3e",
        "colab": {
          "base_uri": "https://localhost:8080/",
          "height": 34
        }
      },
      "source": [
        "emails_v1['target'].count()"
      ],
      "execution_count": 0,
      "outputs": [
        {
          "output_type": "execute_result",
          "data": {
            "text/plain": [
              "5168"
            ]
          },
          "metadata": {
            "tags": []
          },
          "execution_count": 149
        }
      ]
    },
    {
      "cell_type": "code",
      "metadata": {
        "id": "cG6QGhPOoSjX",
        "colab_type": "code",
        "colab": {}
      },
      "source": [
        "#Using sklearn train_test split the given dataset in ratio :70:30\n",
        "X_train, X_test, y_train, y_test = train_test_split(emails_v1['text'], emails_v1['target'], test_size = 0.3,random_state = 100)"
      ],
      "execution_count": 0,
      "outputs": []
    },
    {
      "cell_type": "code",
      "metadata": {
        "id": "1l1oihRLGtSV",
        "colab_type": "code",
        "outputId": "47386098-3799-4e17-8eef-e3252a3dd237",
        "colab": {
          "base_uri": "https://localhost:8080/",
          "height": 34
        }
      },
      "source": [
        "y_test.shape"
      ],
      "execution_count": 0,
      "outputs": [
        {
          "output_type": "execute_result",
          "data": {
            "text/plain": [
              "(1551,)"
            ]
          },
          "metadata": {
            "tags": []
          },
          "execution_count": 261
        }
      ]
    },
    {
      "cell_type": "code",
      "metadata": {
        "id": "Uwvj63yJoSja",
        "colab_type": "code",
        "outputId": "a15a475d-e8d7-4ce3-cc2e-bb02417e3c29",
        "colab": {
          "base_uri": "https://localhost:8080/",
          "height": 34
        }
      },
      "source": [
        "cv = CountVectorizer()\n",
        "X_train_cv = cv.fit_transform(X_train)\n",
        "print(\"Training_data_shape_vectorizer:\",X_train_cv.shape)"
      ],
      "execution_count": 0,
      "outputs": [
        {
          "output_type": "stream",
          "text": [
            "Training_data_shape_vectorizer: (3617, 7008)\n"
          ],
          "name": "stdout"
        }
      ]
    },
    {
      "cell_type": "code",
      "metadata": {
        "id": "gRM_L_wdsgkN",
        "colab_type": "code",
        "outputId": "d0a18de1-6300-4923-dc25-42de250557ed",
        "colab": {
          "base_uri": "https://localhost:8080/",
          "height": 54
        }
      },
      "source": [
        "all_train_words = cv.get_feature_names() #Fetching all the tokens in the training dataset\n",
        "print(all_train_words)"
      ],
      "execution_count": 0,
      "outputs": [
        {
          "output_type": "stream",
          "text": [
            "['00', '000', '000pes', '008704050406', '0089', '0121', '01223585334', '0125698789', '02', '0207', '02072069400', '02073162414', '02085076972', '03', '04', '0430', '05', '0578', '06', '07', '07008009200', '07046744435', '07090201529', '07090298926', '07099833605', '0721072', '07734396839', '07753741225', '0776xxxxxxx', '07781482378', '07786200117', '077xxx', '078', '07801543489', '07815296484', '07821230901', '07880867867', '0789xxxxxxx', '07946746291', '0796xxxxxx', '07xxxxxxxxx', '08', '0800', '08000407165', '08000776320', '08000839402', '08000930705', '08000938767', '08001950382', '08002888812', '08002986030', '08002988890', '08006344447', '0808', '08081263000', '08081560665', '0825', '0844', '08448350055', '08448714184', '0845', '08450542832', '08452810073', '08452810075over18', '0870', '08700435505150p', '08700469649', '08700621170150p', '08701213186', '08701237397', '08701417012', '08701417012150p', '0870141701216', '087016248', '08701752560', '0870241182716', '08702490080', '08702840625', '08704050406', '08704439680', '08704439680ts', '08706091795', '08707500020', '08707509020', '08707808226', '08708034412', '08708800282', '08709222922', '08709501522', '0871', '08712101358', '0871212025016', '08712300220', '087123002209am', '08712317606', '08712400200', '08712400602450p', '08712400603', '08712402050', '08712402578', '08712402779', '08712402902', '08712402972', '08712405020', '08712405022', '08712460324', '08712466669', '0871277810710p', '0871277810910p', '08714342399', '087147123779am', '08714712388', '08714712412', '08714714011', '08715203028', '08715203652', '08715203656', '08715203677', '08715203685', '08715203694', '08715205273', '08715500022', '08715705022', '08717168528', '08717205546', '0871750', '08717507382', '08717509990', '08717890890å', '08717898035', '08718711108', '08718720201', '08718723815', '08718726270', '087187262701', '08718726970', '08718726971', '08718727870', '08718727870150ppm', '08718730666', '08718738001', '08718738002', '08719181503', '08719181513', '08719839835', '08719899230', '09', '09050000301', '09050000555', '09050000878', '09050000928', '09050001295', '09050003091', '09050090044', '09050280520', '09056242159', '09058094565', '09058094599', '09058095107', '09058095201', '09058097189', '09058098002', '09061104276', '09061209465', '09061213237', '09061221061', '09061701851', '09061701939', '09061702893', '09061743386', '09061743806', '09061743810', '09061743811', '09061744553', '09061790121', '09061790125', '09061790126', '09063442151', '09063458130', '0906346330', '09064011000', '09064012103', '09064012160', '09064015307', '09064017295', '09064017305', '09064018838', '09064019788', '09065069120', '09065069154', '09065171142', '09065174042', '09065394514', '09065394973', '09065989182', '09066350750', '09066358152', '09066361921', '09066362206', '09066362231', '09066364311', '09066364349', '09066368470', '09066368753', '09066380611', '09066382422', '09066612661', '09066649731from', '09077818151', '09090204448', '09094100151', '09094646631', '09094646899', '09095350301', '09099725823', '09099726395', '09099726429', '09099726481', '09099726553', '09111030116', '09111032124', '0a', '10', '100', '1000', '1000s', '100p', '100percent', '100txt', '1030', '10am', '10k', '10p', '10ppm', '10th', '11', '113', '114', '116', '1172', '118p', '11mths', '11pm', '12', '120p', '121', '128', '12hours', '12hrs', '12mths', '13', '130', '1327', '139', '14', '140', '145', '146tf150p', '14tcr', '15', '150', '1500', '150p', '150pm', '150ppermesssubscription', '150ppm', '150ppmsg', '150pw', '151', '153', '15pm', '16', '165', '177', '18', '180', '18p', '18yrs', '1apple', '1b6a5ecef91ff9', '1cup', '1da', '1er', '1hr', '1im', '1lemon', '1mega', '1million', '1st', '1stchoice', '1stone', '1tulsi', '1winaweek', '1winawk', '1x150p', '20', '200', '2000', '2003', '2004', '2005', '2007', '200p', '2025050', '20m12aq', '20p', '21', '21870000', '21st', '22', '220cm2', '24', '24hrs', '24m', '25', '250', '250k', '255', '25p', '26', '2667', '26th', '27', '28', '2814032', '28days', '28th', '29', '2b', '2bold', '2c', '2day', '2end', '2ez', '2find', '2geva', '2go', '2gthr', '2hrs', '2lands', '2marrow', '2moro', '2morow', '2morro', '2morrow', '2morrowxxxx', '2mro', '2mrw', '2nd', '2nights', '2nite', '2optout', '2p', '2price', '2px', '2rcv', '2stop', '2stoptx', '2stoptxt', '2u', '2u2', '2waxsto', '2wks', '2wu', '2yr', '2yrs', '30', '300', '3000', '300603', '300p', '3030', '30ish', '30pp', '30s', '30th', '31', '31p', '32', '32000', '3230', '32323', '326', '33', '350', '3510i', '35p', '3650', '36504', '373', '3750', '37819', '38', '382', '3aj', '3d', '3g', '3gbp', '3lions', '3lp', '3mins', '3mobile', '3optical', '3pound', '3qxj9', '3rd', '3uz', '3wks', '3xx', '3xå', '40', '400', '400mins', '400thousad', '4041', '40533', '40gb', '40mph', '41685', '41782', '420', '42049', '4217', '42478', '42810', '430', '434', '4403ldnw1a7rw18', '44345', '447797706009', '449050000301', '45', '450p', '450pw', '47', '4719', '4742', '48', '48922', '49', '4a', '4d', '4eva', '4few', '4get', '4give', '4goten', '4info', '4msgs', '4mths', '4qf2', '4t', '4th', '4the', '4thnov', '4txt', '4u', '4utxt', '4w', '4wrd', '4xx26', '4years', '50', '500', '5000', '50ea', '50gbp', '50p', '50perweeksub', '50perwksub', '50ppm', '50rcvd', '50s', '515', '523', '526', '530', '54', '542', '545', '5digital', '5free', '5ish', '5k', '5min', '5mls', '5p', '5pm', '5wb', '5we', '5wkg', '5wq', '5years', '60', '600', '60p', '61', '61610', '62220cncl', '6230', '62468', '630', '63miles', '645', '65', '66', '674', '67441233', '68866', '69101', '69669', '69696', '69855', '69866', '69876', '69888', '69888nyt', '69969', '69988', '6days', '6hl', '6hrs', '6missed', '6months', '6ph', '6pm', '6times', '6zf', '700', '71', '7250', '7250i', '730', '731', '74355', '750', '7548', '75max', '762', '7634', '7684', '77', '79', '7am', '7cfca1a', '7ish', '7oz', '7pm', '7ws', '7zs', '80', '800', '80062', '8007', '80082', '80086', '80122300p', '80155', '80160', '80182', '8027', '80488', '80608', '80878', '81010', '81151', '81303', '81618', '82050', '820554ad0a1705572711', '82242', '82277', '82324', '82468', '83021', '83049', '83110', '83222', '83332', '83338', '83355', '83370', '83383', '83435', '83600', '84', '84025', '84122', '84128', '84199', '84484', '85', '85023', '85069', '85222', '85233', '8552', '85555', '86021', '861', '86688', '87021', '87066', '87077', '87121', '87131', '8714714', '872', '87239', '87575', '8800', '88039', '88066', '88088', '88222', '88600', '88800', '8883', '88877', '88888', '89034', '89070', '89080', '89105', '89123', '89545', '89555', '89693', '89938', '8am', '8ball', '8lb', '8p', '8pm', '8th', '8wp', '900', '910', '9153', '9280114', '930', '9307622', '945', '9755', '97n7qp', '98321561', '99', '9ae', '9am', '9ja', '9pm', '9t', '9th', '9yt', '____', 'a21', 'a30', 'aa', 'aah', 'aathi', 'ab', 'abdomen', 'abeg', 'abel', 'abi', 'abiola', 'abj', 'able', 'about', 'aboutas', 'above', 'abroad', 'absence', 'absolutely', 'absolutly', 'abt', 'abta', 'abuse', 'abusers', 'ac', 'acc', 'accent', 'accept', 'access', 'accessible', 'accident', 'accidentally', 'accommodation', 'accordingly', 'account', 'accumulation', 'ache', 'achieve', 'acl03530150pm', 'acnt', 'aco', 'across', 'act', 'actin', 'acting', 'action', 'activ8', 'activate', 'active', 'activities', 'actor', 'actual', 'actually', 'ad', 'add', 'addamsfa', 'added', 'addicted', 'addie', 'address', 'adds', 'adewale', 'adi', 'adjustable', 'admin', 'admirer', 'admit', 'adore', 'adoring', 'adp', 'adress', 'adsense', 'adult', 'advance', 'adventure', 'adventuring', 'advice', 'advise', 'aeronautics', 'aeroplane', 'affair', 'affairs', 'affectionate', 'affections', 'afford', 'afraid', 'aft', 'after', 'afternoon', 'afternoons', 'afterwards', 'aftr', 'ag', 'again', 'against', 'agalla', 'age', 'age16', 'age23', 'agent', 'agents', 'ages', 'agidhane', 'aging', 'ago', 'ah', 'aha', 'ahead', 'ahmad', 'ahold', 'aid', 'aids', 'aight', 'ain', 'aint', 'air', 'air1', 'airport', 'airtel', 'aiya', 'aiyah', 'aiyar', 'aiyo', 'ak', 'aka', 'akon', 'al', 'alaikkum', 'alaipayuthe', 'albi', 'album', 'alcohol', 'aldrine', 'alert', 'alerts', 'aletter', 'alex', 'alfie', 'algarve', 'algebra', 'algorithms', 'ali', 'alian', 'alibi', 'alive', 'all', 'allah', 'allday', 'allo', 'allow', 'allowed', 'allows', 'almost', 'alone', 'along', 'alot', 'already', 'alright', 'alrite', 'also', 'alter', 'alternative', 'although', 'alto18', 'alwa', 'always', 'alwys', 'am', 'amazing', 'ambrith', 'american', 'ami', 'amigos', 'amla', 'ammo', 'among', 'amongst', 'amore', 'amount', 'amp', 'amrca', 'amrita', 'ams', 'amt', 'amused', 'amy', 'an', 'ana', 'anal', 'analysis', 'anand', 'and', 'anderson', 'andre', 'andrews', 'andros', 'angels', 'angry', 'animal', 'animation', 'anjie', 'anna', 'annie', 'anniversary', 'annoncement', 'announcement', 'annoying', 'anonymous', 'another', 'ans', 'ansr', 'answer', 'answered', 'answerin', 'answering', 'answers', 'antha', 'anthony', 'anti', 'antibiotic', 'any', 'anybody', 'anymore', 'anyone', 'anyplaces', 'anythiing', 'anythin', 'anything', 'anytime', 'anyway', 'anyways', 'anywhere', 'aom', 'apart', 'apes', 'apeshit', 'aphexåõs', 'apnt', 'apo', 'apologetic', 'apologise', 'apologize', 'apology', 'app', 'apparently', 'appeal', 'appear', 'appendix', 'applebees', 'apples', 'application', 'apply', 'applyed', 'applying', 'appointment', 'appreciate', 'appreciated', 'approaches', 'approaching', 'appropriate', 'approve', 'approved', 'apps', 'appt', 'april', 'aproach', 'apt', 'aquarius', 'ar', 'arab', 'arabian', 'arcade', 'archive', 'ard', 'are', 'area', 'aren', 'arent', 'arestaurant', 'areyouunique', 'argh', 'argue', 'argument', 'arguments', 'aries', 'arise', 'arises', 'arithmetic', 'arm', 'armand', 'armenia', 'arms', 'arng', 'arnt', 'around', 'aroundn', 'arrange', 'arranging', 'arrested', 'arrival', 'arrive', 'arrived', 'arrow', 'arsenal', 'art', 'artists', 'arts', 'arty', 'arul', 'arun', 'as', 'asap', 'ashes', 'ashley', 'asia', 'asjesus', 'ask', 'askd', 'asked', 'askin', 'asking', 'asks', 'aslamalaikkum', 'asleep', 'asp', 'aspects', 'ass', 'assistance', 'associate', 'asssssholeeee', 'assume', 'assumed', 'asthere', 'astne', 'astrology', 'asus', 'at', 'ate', 'athome', 'atlanta', 'atlast', 'atleast', 'atm', 'attach', 'attached', 'attempt', 'attend', 'attended', 'attention', 'attitude', 'attraction', 'attractive', 'attracts', 'auction', 'audiitions', 'audition', 'audrey', 'audrie', 'august', 'aunt', 'auntie', 'aunties', 'aunts', 'aunty', 'aust', 'australia', 'auto', 'autocorrect', 'av', 'ava', 'available', 'avatar', 'avble', 'ave', 'avenge', 'avent', 'avo', 'avoid', 'avoiding', 'avoids', 'await', 'awaiting', 'awake', 'award', 'awarded', 'away', 'awesome', 'awkward', 'aww', 'axel', 'axis', 'ay', 'ayn', 'ayo', 'aå', 'b4', 'b4u', 'b4utele', 'ba', 'ba128nnfwfly150ppm', 'baaaaaaaabe', 'baaaaabe', 'babe', 'babes', 'babies', 'baby', 'babygoodbye', 'babyjontet', 'babysit', 'babysitting', 'back', 'backdoor', 'backwards', 'bad', 'badass', 'badly', 'badrith', 'bag', 'bags', 'bahamas', 'baig', 'bailiff', 'bajarangabali', 'bak', 'bakra', 'bakrid', 'balance', 'ball', 'bam', 'band', 'bandages', 'bang', 'bangb', 'bangbabes', 'bank', 'banks', 'banneduk', 'bar', 'barcelona', 'barely', 'bari', 'barkleys', 'barmed', 'barred', 'barrel', 'barring', 'base', 'based', 'basic', 'basically', 'basket', 'bat', 'batch', 'batchlor', 'bath', 'bathe', 'bathing', 'bathroom', 'batsman', 'batt', 'battery', 'battle', 'bay', 'bb', 'bbc', 'bbd', 'bc', 'bck', 'bcm', 'bcm1896wc1n3xx', 'bcm4284', 'bcmsfwc1n3xx', 'bcoz', 'bday', 'be', 'beach', 'beads', 'bear', 'bears', 'beatings', 'beauties', 'beautiful', 'beauty', 'bec', 'becaus', 'because', 'becausethey', 'become', 'becoz', 'becz', 'bed', 'bedrm', 'bedroom', 'beeen', 'beehoon', 'been', 'beendropping', 'beer', 'beers', 'befor', 'before', 'beggar', 'begging', 'begin', 'behalf', 'behave', 'behind', 'bein', 'being', 'believe', 'belive', 'bell', 'belligerent', 'belly', 'belongs', 'belovd', 'beloved', 'belt', 'ben', 'bend', 'beneath', 'benefits', 'beside', 'best', 'best1', 'bet', 'beta', 'beth', 'betta', 'better', 'between', 'beverage', 'beware', 'beyond', 'bf', 'bffs', 'bhaji', 'bhaskar', 'bian', 'biatch', 'bid', 'bids', 'big', 'bigger', 'biggest', 'bill', 'billed', 'billion', 'bills', 'billy', 'bilo', 'bimbo', 'bin', 'biola', 'bird', 'birds', 'birla', 'biro', 'birth', 'birthdate', 'birthday', 'bishan', 'bit', 'bitch', 'bite', 'bits', 'biz', 'bk', 'black', 'blackberry', 'blacko', 'blah', 'blake', 'blank', 'blanked', 'bleak', 'bless', 'blessed', 'blessing', 'blimey', 'block', 'blogging', 'blogspot', 'bloke', 'blokes', 'blonde', 'blood', 'bloody', 'bloomberg', 'blow', 'blown', 'blu', 'blue', 'bluetooth', 'bluetoothhdset', 'bluff', 'blur', 'bluray', 'bmw', 'board', 'boat', 'boatin', 'body', 'boggy', 'bognor', 'bold', 'bold2', 'bollox', 'boltblue', 'bone', 'bong', 'bonus', 'boo', 'book', 'booked', 'bookedthe', 'booking', 'books', 'bookshelf', 'boost', 'booty', 'bootydelious', 'bored', 'borin', 'boring', 'born', 'borrow', 'boss', 'boston', 'bot', 'both', 'bother', 'bottle', 'bottom', 'bought', 'boughtåóbraindanceåóa', 'bout', 'bowa', 'bowl', 'bowls', 'box', 'box139', 'box177', 'box326', 'box334sk38ch', 'box39822', 'box403', 'box420', 'box42wr29c', 'box434sk38wp150ppm18', 'box61', 'box95qu', 'box97n7qp', 'boy', 'boye', 'boyf', 'boys', 'boytoy', 'bpo', 'brah', 'brain', 'brains', 'brand', 'brandy', 'brats', 'braved', 'bray', 'brb', 'brdget', 'breadstick', 'break', 'breakfast', 'breakin', 'breaks', 'breath', 'breathe', 'breathe1', 'breather', 'breathing', 'breeze', 'breezy', 'bridal', 'bridge', 'bright', 'brighten', 'brilliant', 'brilliantly', 'brin', 'bring', 'bringing', 'brings', 'brisk', 'brison', 'bristol', 'british', 'britney', 'bro', 'broad', 'broadband', 'broke', 'broken', 'brolly', 'bros', 'brothas', 'brother', 'brothers', 'brought', 'brown', 'brownies', 'browse', 'browser', 'bruce', 'brum', 'bruv', 'bslvyl', 'bstfrnd', 'bt', 'btw', 'btwn', 'bubbletext', 'bucks', 'bud', 'buddy', 'buddys', 'budget', 'buen', 'buff', 'buffet', 'buffy', 'bugis', 'build', 'building', 'built', 'bullshit', 'bunch', 'bundle', 'bunkers', 'buns', 'burger', 'burial', 'burn', 'burning', 'burns', 'burnt', 'burrito', 'bus', 'bus8', 'buses', 'business', 'busty', 'busy', 'but', 'butt', 'buttheres', 'butting', 'buy', 'buyers', 'buying', 'buzy', 'buzz', 'buzzzz', 'bx', 'bx420', 'bx526', 'by', 'byatch', 'bye', 'båõday', 'c52', 'cafe', 'cake', 'cakes', 'cal', 'calculation', 'cali', 'calicut', 'california', 'call', 'call09050000327', 'call2optout', 'callback', 'calld', 'called', 'caller', 'callers', 'callertune', 'callfreefone', 'callin', 'calling', 'calls', 'calls1', 'callså', 'calm', 'cam', 'camcorder', 'came', 'camera', 'camp', 'campus', 'camry', 'can', 'canada', 'canal', 'canary', 'cancel', 'canceled', 'cancelled', 'cancer', 'canname', 'cannot', 'cant', 'canteen', 'canåõt', 'capacity', 'capital', 'cappuccino', 'caps', 'captain', 'car', 'card', 'cardiff', 'cardin', 'care', 'cared', 'career', 'careers', 'careful', 'carefully', 'careless', 'cares', 'caring', 'carlie', 'carlin', 'carlos', 'carly', 'carolina', 'caroline', 'carry', 'cars', 'cartoon', 'case', 'cash', 'cashbin', 'cashto', 'casing', 'cast', 'castor', 'casualty', 'catch', 'catching', 'categories', 'caught', 'cause', 'causes', 'causing', 'caveboy', 'cbe', 'cc', 'cc100p', 'ccna', 'cd', 'cdgt', 'cds', 'celeb', 'celebrate', 'celebrated', 'celebration', 'cell', 'census', 'center', 'centre', 'cer', 'cereals', 'ceri', 'certainly', 'certificate', 'cha', 'chachi', 'chain', 'challenge', 'challenging', 'champneys', 'chance', 'chances', 'change', 'changed', 'changes', 'channel', 'chaps', 'chapter', 'character', 'characters', 'charge', 'charged', 'charges', 'charity', 'charles', 'charlie', 'charming', 'chart', 'charts', 'chase', 'chasing', 'chastity', 'chat', 'chat80155', 'chatlines', 'chatter', 'chatting', 'cheap', 'cheaper', 'cheat', 'chechi', 'check', 'checkboxes', 'checked', 'checkin', 'checking', 'checkup', 'cheek', 'cheer', 'cheers', 'cheery', 'cheetos', 'chennai', 'cheque', 'cherish', 'chest', 'cheyyamo', 'chgs', 'chic', 'chicken', 'chickened', 'chief', 'chik', 'chikku', 'child', 'childish', 'childporn', 'children', 'childrens', 'chile', 'chill', 'chillaxin', 'chillin', 'china', 'chinatown', 'chinchillas', 'chinese', 'chinnu', 'chiong', 'chip', 'chit', 'chk', 'chocolate', 'choice', 'choices', 'choose', 'choosing', 'chords', 'chores', 'chosen', 'christ', 'christmas', 'chuck', 'church', 'ciao', 'cine', 'cinema', 'citizen', 'city', 'citylink', 'cl', 'claim', 'claims', 'claire', 'clarification', 'clas', 'class', 'classes', 'classic', 'classmates', 'claypot', 'cld', 'clean', 'cleaning', 'clear', 'cleared', 'clearing', 'clearly', 'clever', 'click', 'cliff', 'cliffs', 'clip', 'clock', 'clos1', 'close', 'closeby', 'closed', 'closer', 'closes', 'cloth', 'clothes', 'clover', 'club', 'clubmoby', 'clubsaisai', 'cm', 'cmon', 'cn', 'cnl', 'cnupdates', 'co', 'coach', 'coast', 'coat', 'coaxing', 'coca', 'coccooning', 'cochin', 'cock', 'coco', 'code', 'coffee', 'coimbatore', 'coin', 'coins', 'cola', 'cold', 'collages', 'colleagues', 'collect', 'collected', 'collecting', 'collection', 'colleg', 'college', 'color', 'colour', 'colourful', 'colours', 'com', 'com1win150ppmx3age16', 'com1win150ppmx3age16subscription', 'comb', 'combination', 'combine', 'come', 'comedy', 'comes', 'comfort', 'comin', 'coming', 'comingdown', 'command', 'comment', 'commercial', 'common', 'community', 'como', 'comp', 'companies', 'company', 'compensation', 'competition', 'complaining', 'complaint', 'complementary', 'complete', 'completed', 'completely', 'complexities', 'complimentary', 'compliments', 'comprehensive', 'computational', 'computer', 'comuk', 'conacted', 'concentrate', 'concentration', 'concern', 'concerned', 'concert', 'condition', 'conditions', 'conducts', 'conected', 'conference', 'confidence', 'confirm', 'confirmed', 'conform', 'confused', 'confuses', 'congrats', 'congratulation', 'congratulations', 'connect', 'connected', 'connection', 'connections', 'consensus', 'consent', 'conserve', 'consider', 'considering', 'consistently', 'console', 'constant', 'constantly', 'contact', 'contacted', 'contacts', 'content', 'contented', 'contents', 'continent', 'continue', 'contract', 'contribute', 'control', 'conversations', 'converted', 'converter', 'convey', 'conveying', 'convince', 'convinced', 'convincing', 'cook', 'cooked', 'cookies', 'cooking', 'cool', 'cooperative', 'copied', 'copies', 'coping', 'cops', 'copy', 'corect', 'cornwall', 'corrct', 'correct', 'correction', 'correctly', 'cos', 'cost', 'costa', 'costing', 'costs', 'costume', 'costumes', 'costå', 'couch', 'cougar', 'could', 'couldn', 'couldnåõt', 'count', 'countinlots', 'country', 'couple', 'courage', 'course', 'court', 'cousin', 'cover', 'coveragd', 'coz', 'cozy', 'cps', 'cr', 'cr01327bt', 'cr9', 'crab', 'crack', 'craigslist', 'crammed', 'cramps', 'crap', 'crash', 'crashed', 'crave', 'craving', 'craziest', 'crazy', 'crazyin', 'cream', 'created', 'creative', 'credit', 'credited', 'credits', 'creep', 'cres', 'cribbs', 'cricket', 'cricketer', 'crickiting', 'crisis', 'cro1327', 'cross', 'crossing', 'crowd', 'croydon', 'cruel', 'cruise', 'cruisin', 'cry', 'cs', 'csh11', 'ctagg', 'ctargg', 'ctla', 'cts', 'cttargg', 'ctter', 'cttergg', 'ctxt', 'cud', 'cuddle', 'cuddled', 'cuddling', 'cudnt', 'culdnt', 'cultures', 'cum', 'cumin', 'cumming', 'cup', 'cupboard', 'cuppa', 'curfew', 'curious', 'current', 'currently', 'curry', 'curtsey', 'cust', 'custcare', 'custom', 'customer', 'customercare', 'customers', 'customersqueries', 'cut', 'cute', 'cutefrnd', 'cutest', 'cutie', 'cutter', 'cutting', 'cuz', 'cw25wx', 'cya', 'cyclists', 'cysts', 'd3wv', 'da', 'daaaaa', 'dabooks', 'dad', 'daddy', 'dads', 'dai', 'daily', 'damn', 'dance', 'dancin', 'dane', 'dang', 'danger', 'dao', 'dare', 'dark', 'darker', 'darkest', 'darlin', 'darling', 'darlings', 'darren', 'dartboard', 'das', 'dasara', 'dat', 'data', 'date', 'datebox1282essexcm61xn', 'dates', 'dating', 'dats', 'dave', 'dawns', 'day', 'days', 'daytime', 'daywith', 'dbuk', 'dd', 'de', 'dead', 'deal', 'dealer', 'dealing', 'deals', 'dear', 'dear1', 'dearly', 'death', 'debating', 'dec', 'decades', 'december', 'decent', 'decide', 'decided', 'deciding', 'decimal', 'decision', 'decisions', 'deck', 'decking', 'declare', 'dedicate', 'dedicated', 'deduct', 'deep', 'deepak', 'deepest', 'deer', 'deeraj', 'def', 'defeat', 'deficient', 'definite', 'definitely', 'definitly', 'degree', 'degrees', 'dehydration', 'del', 'delay', 'delete', 'deleted', 'delhi', 'delicious', 'deliver', 'delivered', 'deliveredtomorrow', 'delivery', 'deltomorrow', 'dem', 'den', 'dena', 'dengra', 'dent', 'dental', 'dentist', 'dentists', 'deny', 'denying', 'department', 'dependents', 'depends', 'depressed', 'depression', 'dept', 'der', 'derek', 'derp', 'describe', 'desert', 'desires', 'desk', 'desperate', 'despite', 'dessert', 'destination', 'detail', 'detailed', 'details', 'determine', 'detroit', 'deus', 'develop', 'developed', 'device', 'devils', 'devouring', 'dey', 'dha', 'dhina', 'dhoni', 'di', 'dial', 'diamonds', 'dice', 'dick', 'dict', 'dictionary', 'did', 'diddy', 'didn', 'didnt', 'didnåõt', 'die', 'died', 'diet', 'diff', 'differ', 'difference', 'differences', 'different', 'difficult', 'difficulties', 'digital', 'digits', 'dignity', 'dileep', 'din', 'dine', 'dined', 'dinero', 'ding', 'dining', 'dinner', 'dint', 'dip', 'direct', 'directly', 'director', 'dirt', 'dirtiest', 'dirty', 'dis', 'disappointment', 'disasters', 'disastrous', 'disc', 'disclose', 'discount', 'discreet', 'discuss', 'discussed', 'diseases', 'dislikes', 'dismissial', 'display', 'distance', 'distract', 'disturb', 'disturbance', 'disturbing', 'ditto', 'divert', 'division', 'diwali', 'dizzamn', 'dl', 'dled', 'dlf', 'dload', 'dnt', 'do', 'dob', 'dobby', 'doc', 'docks', 'docs', 'doctor', 'dodda', 'dodgey', 'does', 'doesdiscount', 'doesn', 'doesnt', 'doesnåõt', 'dog', 'dogg', 'doggin', 'dogging', 'doggy', 'dogs', 'dogwood', 'doin', 'doing', 'doit', 'doke', 'dokey', 'dollar', 'dollars', 'dolls', 'dom', 'domain', 'don', 'done', 'donno', 'dont', 'dontcha', 'donyt', 'donåõt', 'dooms', 'door', 'doors', 'dorm', 'dorothy', 'dose', 'dosomething', 'dot', 'double', 'doublemins', 'doubles', 'doubletxt', 'doubt', 'doug', 'dough', 'down', 'download', 'downloaded', 'downloads', 'downon', 'downs', 'downstem', 'dozens', 'dps', 'dr', 'dracula', 'dramatic', 'drastic', 'draw', 'draws', 'dreading', 'dream', 'dreams', 'dreamz', 'dress', 'dressed', 'dresser', 'drink', 'drinkin', 'drinking', 'drinks', 'drive', 'driver', 'drivin', 'driving', 'drizzling', 'drms', 'drop', 'dropped', 'drops', 'drove', 'drpd', 'drug', 'drugdealer', 'drugs', 'drunk', 'dry', 'dryer', 'dsn', 'dt', 'dual', 'dub', 'dubsack', 'duchess', 'ducking', 'dude', 'due', 'duffer', 'dumb', 'dump', 'dun', 'dungerees', 'dunno', 'duo', 'durban', 'durham', 'during', 'dusk', 'dust', 'duvet', 'dvd', 'dwn', 'e14', 'each', 'eachother', 'ear', 'earlier', 'earliest', 'early', 'earn', 'earning', 'ears', 'earth', 'easier', 'easiest', 'easily', 'east', 'easter', 'easy', 'eat', 'eaten', 'eatin', 'eating', 'ebay', 'ec2a', 'echo', 'ecstacy', 'ecstasy', 'ed', 'edge', 'edhae', 'edition', 'edu', 'edukkukayee', 'edward', 'edwards', 'ee', 'eerie', 'eerulli', 'effect', 'effects', 'efreefone', 'eg', 'egbon', 'egg', 'eh', 'eight', 'eighth', 'eire', 'either', 'ela', 'elaborating', 'elaine', 'elama', 'eldest', 'elections', 'electricity', 'elephant', 'else', 'elsewhere', 'elvis', 'em', 'email', 'embarassed', 'embarrassed', 'emc1', 'emergency', 'emotion', 'employee', 'employer', 'empty', 'en', 'enc', 'end', 'ended', 'ending', 'endowed', 'ends', 'enemies', 'enemy', 'energy', 'eng', 'engagement', 'engin', 'england', 'english', 'enjoy', 'enjoyed', 'enjoyin', 'enjoying', 'enketa', 'enna', 'enough', 'ente', 'enter', 'entered', 'enters', 'entertain', 'entertaining', 'entey', 'entire', 'entirely', 'entitled', 'entrepreneurs', 'entry', 'entry41', 'enufcredeit', 'enuff', 'envelope', 'environment', 'envy', 'epi', 'epsilon', 'equally', 'er', 'ere', 'ericson', 'ericsson', 'erm', 'erotic', 'err', 'error', 'errors', 'ertini', 'erupt', 'escalator', 'escape', 'ese', 'eshxxxxxxxxxxx', 'espe', 'especially', 'esplanade', 'essay', 'essential', 'establish', 'eta', 'etc', 'ethnicity', 'etlp', 'ettans', 'euro', 'euro2004', 'eurodisinc', 'europe', 'evaluation', 'evaporated', 'eve', 'eveb', 'even', 'evening', 'evenings', 'event', 'events', 'ever', 'every', 'every1', 'everybody', 'everyday', 'everyone', 'everyones', 'everythin', 'everything', 'everytime', 'everywhere', 'evey', 'evn', 'evng', 'evo', 'evr', 'evrey', 'evry', 'evry1', 'evrydy', 'ex', 'exact', 'exactly', 'exam', 'exams', 'excellent', 'except', 'excited', 'exciting', 'excuse', 'excuses', 'exe', 'executive', 'exercise', 'exeter', 'exhaust', 'exhausted', 'exhibition', 'exist', 'exmpel', 'exorcist', 'expect', 'expected', 'expecting', 'expects', 'expensive', 'experience', 'experiencehttp', 'experiment', 'expert', 'expired', 'expires', 'explain', 'explicit', 'explosive', 'exposes', 'express', 'expression', 'expressoffer', 'ext', 'extra', 'extract', 'ey', 'eye', 'eyed', 'eyes', 'eå', 'fa', 'fab', 'faber', 'face', 'facebook', 'facilities', 'fact', 'factory', 'facts', 'faggy', 'faglord', 'failed', 'fails', 'fainting', 'fair', 'faith', 'fake', 'fal', 'falconerf', 'fall', 'fallen', 'falling', 'falls', 'fals', 'famamus', 'familiar', 'family', 'fan', 'fancies', 'fancy', 'fans', 'fantasies', 'fantastic', 'fantasy', 'far', 'farm', 'fassyole', 'fast', 'faster', 'fastest', 'fat', 'fated', 'father', 'fathima', 'fatty', 'fault', 'fav', 'fave', 'favour', 'favourite', 'fb', 'fear', 'feathery', 'feb', 'february', 'fed', 'feed', 'feel', 'feelin', 'feeling', 'feellikw', 'feels', 'fees', 'feet', 'fell', 'fellow', 'felt', 'female', 'feng', 'festival', 'fetch', 'fetching', 'fever', 'few', 'ffffffffff', 'ffffuuuuuuu', 'fgkslpo', 'fgkslpopw', 'field', 'fifteen', 'fight', 'fighting', 'fights', 'figure', 'figures', 'figuring', 'file', 'files', 'fill', 'filled', 'filling', 'fills', 'film', 'films', 'filth', 'filthy', 'filthyguys', 'final', 'finalise', 'finally', 'finance', 'financial', 'find', 'finds', 'fine', 'finest', 'fingers', 'finish', 'finished', 'finishes', 'finishing', 'fink', 'finn', 'fire', 'fired', 'firefox', 'fireplace', 'firmware', 'first', 'fish', 'fishhead', 'fishrman', 'fit', 'fiting', 'five', 'fix', 'fixd', 'fixed', 'fixedline', 'flag', 'flaked', 'flame', 'flash', 'flat', 'flatter', 'flavour', 'flea', 'fletcher', 'flew', 'flies', 'flight', 'flights', 'flim', 'flip', 'flippin', 'flirt', 'flirting', 'flirtparty', 'flood', 'floor', 'floppy', 'flow', 'flower', 'flowing', 'fluids', 'fly', 'flying', 'flyng', 'fml', 'fne', 'fo', 'foley', 'folks', 'follow', 'followed', 'followin', 'following', 'follows', 'fond', 'fondly', 'fone', 'foned', 'fones', 'food', 'fool', 'fools', 'foot', 'football', 'footprints', 'footy', 'for', 'force', 'foregate', 'foreign', 'forever', 'forevr', 'forfeit', 'forget', 'forgets', 'forgiveness', 'forgot', 'forgotten', 'formal', 'format', 'forms', 'fortune', 'forum', 'forums', 'forward', 'forwarded', 'forwarding', 'forå', 'found', 'four', 'fowler', 'fox', 'fps', 'fr', 'fraction', 'fran', 'franxx', 'frauds', 'freak', 'freaking', 'fredericksburg', 'free', 'free2day', 'freedom', 'freefone', 'freek', 'freely', 'freemsg', 'freephone', 'freezing', 'fren', 'frens', 'frequently', 'fresh', 'fret', 'fri', 'friday', 'fridays', 'fridge', 'fried', 'friend', 'friends', 'friendship', 'friendships', 'fring', 'fringe', 'frm', 'frnd', 'frnds', 'frndship', 'frndshp', 'frndsship', 'frndz', 'fro', 'frog', 'from', 'front', 'frying', 'ft', 'fuck', 'fucked', 'fuckin', 'fucking', 'fuckinnice', 'fucks', 'fuelled', 'fujitsu', 'ful', 'fulfil', 'full', 'fullonsms', 'fun', 'function', 'functions', 'fundamentals', 'funeral', 'funk', 'funky', 'funny', 'funs', 'furniture', 'further', 'future', 'fuuuuck', 'fwiw', 'fyi', 'g2', 'g696ga', 'ga', 'gage', 'gail', 'gailxx', 'gal', 'gals', 'gam', 'game', 'games', 'gamestar', 'gandhipuram', 'ganesh', 'gang', 'gap', 'gaps', 'garage', 'gardener', 'gari', 'garments', 'gary', 'gas', 'gautham', 'gauti', 'gave', 'gay', 'gayle', 'gays', 'gaytextbuddy', 'gaze', 'gbp', 'gbp1', 'gbp5', 'gd', 'ge', 'gee', 'geeee', 'gei', 'gek1510', 'gender', 'general', 'generally', 'genes', 'genius', 'gent', 'gentle', 'gentleman', 'gently', 'genuine', 'geoenvironmental', 'george', 'ger', 'germany', 'get', 'get4an18th', 'getiing', 'geting', 'gets', 'getsleep', 'getstop', 'gettin', 'getting', 'getzed', 'gf', 'ghost', 'gibbs', 'gibe', 'gift', 'gifts', 'gigolo', 'gimme', 'gimmi', 'gin', 'girl', 'girlfrnd', 'girlie', 'girls', 'gist', 'giv', 'give', 'gives', 'giving', 'glad', 'glands', 'glass', 'global', 'glorious', 'gloucesterroad', 'gm', 'gmw', 'gn', 'gnarls', 'go', 'go2sri', 'goal', 'goals', 'gobi', 'god', 'goes', 'goggles', 'goigng', 'goin', 'going', 'gokila', 'gold', 'golddigger', 'golden', 'goldviking', 'golf', 'gon', 'gona', 'gone', 'gong', 'gonna', 'gonnamissu', 'good', 'goodevening', 'goodies', 'goodmorning', 'goodnight', 'goodnite', 'goodnoon', 'goods', 'goodtime', 'google', 'gorgeous', 'goss', 'gossip', 'got', 'gota', 'gotany', 'gotbabes', 'gotmarried', 'goto', 'gotta', 'gotten', 'gotto', 'goverment', 'govt', 'gprs', 'gpu', 'gr8', 'gr8fun', 'gr8prizes', 'grab', 'grace', 'grahmbell', 'gram', 'grand', 'grandfather', 'grandma', 'granite', 'granted', 'grasp', 'grave', 'gravity', 'gravy', 'gray', 'grazed', 'gre', 'great', 'greatest', 'greatly', 'greece', 'green', 'greet', 'greeting', 'greetings', 'grief', 'grinder', 'grins', 'grl', 'ground', 'group', 'grow', 'growing', 'grown', 'grr', 'grumble', 'gsex', 'gsoh', 'gt', 'gua', 'guai', 'guaranteed', 'gucci', 'gud', 'gudni8', 'gudnite', 'gudnyt', 'guess', 'guessed', 'guesses', 'guessin', 'guessing', 'guidance', 'guide', 'guides', 'guild', 'guilty', 'guitar', 'gurl', 'gut', 'guy', 'guys', 'gv', 'gving', 'gym', 'gynae', 'ha', 'habba', 'habit', 'hack', 'had', 'haf', 'haha', 'hahaha', 'hai', 'hail', 'hair', 'haircut', 'haiz', 'half', 'hall', 'halla', 'hallaq', 'halloween', 'ham', 'hamper', 'hand', 'handed', 'handing', 'handle', 'hands', 'handset', 'handsomes', 'hang', 'hanger', 'hangin', 'hanging', 'hanks', 'hanuman', 'hanumanji', 'happen', 'happend', 'happened', 'happening', 'happens', 'happiest', 'happily', 'happiness', 'happy', 'hard', 'hardcore', 'harder', 'hardly', 'hari', 'harish', 'harri', 'harry', 'has', 'hasbro', 'hasn', 'hasnt', 'hat', 'hate', 'haul', 'hav', 'have', 'haven', 'havent', 'haventcn', 'havin', 'having', 'havn', 'havnt', 'hdd', 'he', 'head', 'headache', 'heading', 'heads', 'headset', 'headstart', 'heal', 'healthy', 'heap', 'hear', 'heard', 'hearin', 'hearing', 'heart', 'hearted', 'hearts', 'heat', 'heater', 'heaven', 'heavily', 'heavy', 'hectic', 'hee', 'heehee', 'height', 'helen', 'helens', 'hell', 'hella', 'hello', 'helloooo', 'help', 'help08700621170150p', 'help08714742804', 'help08718728876', 'helpful', 'helpline', 'heltini', 'hence', 'hep', 'her', 'here', 'hero', 'heroes', 'hes', 'hesitate', 'hesitation', 'hex', 'hey', 'hf8', 'hg', 'hhahhaahahah', 'hi', 'hidden', 'hide', 'hides', 'high', 'highest', 'hilarious', 'hill', 'hills', 'him', 'himso', 'hint', 'hip', 'hiphop', 'hire', 'his', 'history', 'hit', 'hitman', 'hitter', 'hittng', 'hiya', 'hl', 'hlday', 'hlp', 'hmm', 'hmmm', 'hmmmm', 'hmmross', 'hmv', 'hmv1', 'ho', 'hockey', 'hogidhe', 'hogli', 'hogolo', 'hol', 'holby', 'hold', 'holder', 'holding', 'hole', 'holiday', 'holla', 'hols', 'holy', 'home', 'hon', 'honestly', 'honesty', 'honey', 'honeybee', 'honeymoon', 'hont', 'hooch', 'hoody', 'hook', 'hooked', 'hoops', 'hop', 'hope', 'hoped', 'hopefully', 'hopeing', 'hopes', 'hoping', 'hor', 'horniest', 'horny', 'horo', 'horrible', 'horse', 'hospital', 'hospitals', 'host', 'hostel', 'hostile', 'hot', 'hotel', 'hotels', 'hottest', 'hour', 'hourish', 'hours', 'house', 'houseful', 'housewives', 'housework', 'how', 'howard', 'however', 'hows', 'howz', 'hp', 'hr', 'hrishi', 'hrs', 'hsbc', 'http', 'hu', 'huai', 'hubby', 'hudgi', 'hug', 'huge', 'hugging', 'hugh', 'huh', 'hui', 'humanities', 'hun', 'hundred', 'hundreds', 'hungry', 'hunks', 'hunny', 'hunt', 'hunting', 'hurricanes', 'hurried', 'hurry', 'hurt', 'hurting', 'hurts', 'husband', 'hussey', 'hut', 'hv', 'hv9d', 'hw', 'hyde', 'hype', 'hypotheticalhuagauahahuagahyuhagga', 'iam', 'ias', 'ibh', 'ibhltd', 'ibiza', 'ibm', 'ibored', 'ibuprofens', 'ic', 'iccha', 'ice', 'icicibank', 'icky', 'icon', 'id', 'idc', 'idea', 'ideal', 'ideas', 'identification', 'identifier', 'idiot', 'idk', 'idps', 'idu', 'ie', 'if', 'ifink', 'ignorant', 'ignore', 'ignoring', 'ijust', 'ikea', 'ikno', 'iknow', 'il', 'ileave', 'ill', 'ilol', 'im', 'image', 'images', 'imagination', 'imagine', 'imat', 'imma', 'immed', 'immediately', 'immunisation', 'imp', 'impatient', 'implications', 'important', 'importantly', 'impossible', 'impress', 'impressed', 'impression', 'improve', 'improved', 'in', 'in2', 'inc', 'inch', 'inches', 'incident', 'inclu', 'include', 'includes', 'including', 'inclusive', 'incomm', 'inconsiderate', 'inconvenience', 'inconvenient', 'incorrect', 'increase', 'incredible', 'increments', 'inde', 'indeed', 'independence', 'independently', 'index', 'india', 'indian', 'indicate', 'individual', 'indyarocks', 'inever', 'infact', 'infections', 'infernal', 'influx', 'info', 'inform', 'information', 'informed', 'infra', 'infront', 'ing', 'ingredients', 'ink', 'inlude', 'inmind', 'inner', 'innings', 'innocent', 'innu', 'inpersonation', 'inr', 'insha', 'inshah', 'inside', 'inspection', 'inst', 'install', 'installation', 'instant', 'instantly', 'instead', 'instituitions', 'instructions', 'insurance', 'intelligent', 'intention', 'intentions', 'interest', 'interested', 'interesting', 'interfued', 'internal', 'internet', 'interview', 'interviw', 'intha', 'into', 'intrepid', 'intro', 'invaders', 'invest', 'invitation', 'invite', 'invited', 'inviting', 'invnted', 'invoices', 'involved', 'iouri', 'ip', 'ip4', 'ipad', 'ipaditan', 'ipod', 'iq', 'irene', 'iriver', 'irritated', 'irritates', 'irritating', 'is', 'isaiah', 'iscoming', 'ish', 'ishtamayoo', 'island', 'islands', 'isn', 'isnt', 'isnåõt', 'issue', 'issues', 'it', 'italian', 'items', 'its', 'itself', 'itxt', 'itz', 'itåõs', 'ivatte', 'ive', 'iwana', 'iyo', 'iz', 'izzit', 'iåõd', 'iåõllspeak', 'iåõm', 'iåõve', 'j5q', 'jabo', 'jack', 'jacket', 'jackpot', 'jackson', 'jacuzzi', 'jada', 'jade', 'james', 'jamster', 'jamz', 'jan', 'janarige', 'jane', 'janinexx', 'january', 'janx', 'jap', 'jason', 'java', 'jay', 'jaykwon', 'jazz', 'je', 'jealous', 'jeans', 'jelly', 'jen', 'jenne', 'jenny', 'jeremiah', 'jerry', 'jersey', 'jess', 'jesus', 'jetton', 'jewelry', 'ji', 'jia', 'jiayin', 'jide', 'jiu', 'joanna', 'job', 'jobs', 'jocks', 'jogging', 'john', 'join', 'joined', 'joining', 'joke', 'joker', 'jokes', 'jokin', 'joking', 'jolly', 'jolt', 'jon', 'jones', 'jontin', 'jordan', 'jorge', 'jot', 'journey', 'joy', 'joys', 'jp', 'jst', 'jstfrnd', 'jsut', 'juan', 'judgemental', 'juicy', 'jul', 'juliana', 'july', 'jump', 'jumpers', 'june', 'jungle', 'jurong', 'jus', 'just', 'justbeen', 'justfound', 'justify', 'juswoke', 'juz', 'k52', 'k61', 'k718', 'kaaj', 'kadeem', 'kaiez', 'kaila', 'kaitlyn', 'kalaachutaarama', 'kalainar', 'kalisidare', 'kallis', 'kalstiya', 'kama', 'kanagu', 'kanji', 'kano', 'kappa', 'karaoke', 'kate', 'kath', 'kavalan', 'kay', 'kaypoh', 'kb', 'ke', 'keen', 'keep', 'keeping', 'keluviri', 'kent', 'kept', 'kerala', 'keralacircle', 'key', 'keys', 'keyword', 'kfc', 'kg', 'kicchu', 'kick', 'kickoff', 'kicks', 'kid', 'kids', 'kiefer', 'kill', 'killed', 'killing', 'kills', 'kilos', 'kind', 'kinda', 'kindly', 'king', 'kip', 'kiss', 'kisses', 'kittum', 'knackered', 'knee', 'knees', 'knew', 'knock', 'know', 'knowing', 'known', 'knows', 'knw', 'kochi', 'kodstini', 'kodthini', 'konw', 'korche', 'korean', 'korli', 'korte', 'kotees', 'kothi', 'kr', 'kudi', 'kusruthi', 'kvb', 'l8', 'l8er', 'l8r', 'l8rs', 'l8tr', 'la', 'la1', 'la3', 'la32wu', 'lab', 'labor', 'lacs', 'laden', 'ladies', 'lady', 'lag', 'lager', 'laid', 'lambu', 'lamp', 'lancaster', 'land', 'landing', 'landline', 'landlineonly', 'landlines', 'lane', 'langport', 'language', 'lanka', 'lapdancer', 'laptop', 'lar', 'laready', 'large', 'largest', 'lark', 'last', 'late', 'lately', 'latelyxxx', 'later', 'latest', 'latests', 'latr', 'laugh', 'laughed', 'laughing', 'laughs', 'laurie', 'lavender', 'law', 'lay', 'laying', 'lazy', 'lccltd', 'ld', 'ldew', 'ldn', 'ldnw15h', 'le', 'lead', 'leading', 'leaf', 'leanne', 'learn', 'least', 'least5times', 'leave', 'leaves', 'leaving', 'lect', 'lecture', 'lecturer', 'left', 'leftovers', 'leg', 'legal', 'legitimat', 'legs', 'leh', 'lei', 'lemme', 'lengths', 'leo', 'leona', 'leonardo', 'les', 'less', 'lesser', 'lesson', 'lessons', 'let', 'lets', 'letter', 'letters', 'level', 'lf56', 'li', 'liao', 'lib', 'library', 'lick', 'licks', 'lido', 'lie', 'lies', 'life', 'lifebook', 'lifeis', 'lifetime', 'lifpartnr', 'lift', 'lifted', 'light', 'lighters', 'lightly', 'lik', 'like', 'liked', 'likely', 'likes', 'likeyour', 'liking', 'lil', 'lim', 'limited', 'limping', 'line', 'linear', 'lined', 'linerental', 'lines', 'lingerie', 'lingo', 'link', 'links', 'linux', 'lion', 'lionm', 'lionp', 'lions', 'lip', 'lipo', 'lips', 'list', 'listen', 'listened2the', 'listening', 'listn', 'lit', 'literally', 'litres', 'little', 'live', 'lived', 'liver', 'lives', 'living', 'lkpobox177hp51fl', 'll', 'llc', 'lmao', 'lo', 'load', 'loads', 'loan', 'local', 'location', 'locations', 'locaxx', 'lock', 'locks', 'lodging', 'log', 'logged', 'logging', 'login', 'logo', 'logoff', 'logon', 'lol', 'lololo', 'londn', 'london', 'loneliness', 'lonely', 'long', 'longer', 'lonlines', 'loo', 'look', 'lookatme', 'looked', 'lookin', 'looking', 'looks', 'loooooool', 'looovvve', 'loose', 'loosing', 'loosu', 'lor', 'lord', 'lose', 'loses', 'losing', 'loss', 'lost', 'lot', 'lotr', 'lots', 'lotsly', 'lotta', 'lotto', 'lotz', 'lou', 'loud', 'lounge', 'lousy', 'lov', 'lovable', 'love', 'loved', 'lovely', 'loveme', 'lover', 'loverboy', 'lovers', 'loves', 'lovin', 'loving', 'lovly', 'low', 'lower', 'lowes', 'loxahatchee', 'loyal', 'loyalty', 'ls1', 'ls15hb', 'ls278bb', 'lst', 'lt', 'ltd', 'ltdhelpdesk', 'lttrs', 'lubly', 'luck', 'luckily', 'lucky', 'lucy', 'lucyxx', 'luks', 'lul', 'lunch', 'lunchtime', 'lunsford', 'lush', 'luton', 'luv', 'luvd', 'luvs', 'luxury', 'lv', 'lvblefrnd', 'lyf', 'lyfu', 'lyk', 'lyricalladie', 'm221bp', 'm227xy', 'm26', 'm263uz', 'm60', 'm8', 'm8s', 'ma', 'maangalyam', 'mac', 'macha', 'machan', 'macho', 'mack', 'macleran', 'macs', 'mad', 'mad1', 'mad2', 'madam', 'made', 'madodu', 'madstini', 'madurai', 'mag', 'maga', 'maggi', 'magic', 'magical', 'magicalsongs', 'mah', 'mahal', 'mahaveer', 'mahfuuz', 'maid', 'mail', 'mailbox', 'mailed', 'mails', 'main', 'maintain', 'maintaining', 'major', 'make', 'makes', 'makiing', 'makin', 'making', 'malarky', 'male', 'mall', 'mallika', 'man', 'manage', 'managed', 'management', 'manchester', 'mandara', 'maneesha', 'manege', 'mango', 'manky', 'manual', 'many', 'map', 'mapquest', 'maraikara', 'marandratha', 'march', 'maretare', 'margaret', 'mark', 'market', 'marketing', 'marking', 'marrge', 'marriage', 'married', 'marry', 'marsms', 'maruti', 'marvel', 'mary', 'mas', 'masked', 'massages', 'massive', 'masters', 'mat', 'match', 'matched', 'matches', 'mate', 'mates', 'math', 'mathews', 'maths', 'matra', 'matric', 'matrix3', 'matter', 'matters', 'matured', 'maturity', 'max', 'max10mins', 'maximize', 'maximum', 'may', 'mayb', 'maybe', 'mb', 'mcat', 'mcfly', 'mcr', 'me', 'meal', 'meals', 'mean', 'meaning', 'means', 'meant', 'meanwhile', 'measure', 'meat', 'mecause', 'med', 'medical', 'medicine', 'meds', 'mee', 'meet', 'meetin', 'meeting', 'meetins', 'meets', 'meg', 'mega', 'meh', 'meive', 'mel', 'melle', 'melnite', 'melody', 'melt', 'member', 'members', 'membership', 'memorable', 'memories', 'memory', 'men', 'mens', 'mention', 'mentioned', 'mentionned', 'menu', 'meow', 'merely', 'merememberin', 'merry', 'mess', 'message', 'messaged', 'messages', 'messaging', 'messenger', 'messy', 'met', 'method', 'mf', 'mgs', 'mid', 'middle', 'midnight', 'mids', 'might', 'miiiiiiissssssssss', 'mike', 'mila', 'mileage', 'miles', 'milk', 'millers', 'min', 'minapn', 'mind', 'minded', 'mindset', 'mine', 'minecraft', 'mini', 'minimum', 'minmobsmore', 'minmobsmorelkpobox177hp51fl', 'minmoremobsemspobox45po139wa', 'minnaminunginte', 'minor', 'mins', 'mint', 'minus', 'minute', 'minutes', 'minuts', 'miracle', 'misbehaved', 'miserable', 'misfits', 'mising', 'misplaced', 'miss', 'misscall', 'missed', 'missin', 'missing', 'missionary', 'missions', 'misss', 'missunderstding', 'missy', 'mist', 'mistake', 'mistakes', 'misundrstud', 'mite', 'mitsake', 'mittelschmertz', 'mix', 'mj', 'mjzgroup', 'ml', 'mm', 'mmm', 'mmmm', 'mmmmm', 'mmmmmm', 'mmmmmmm', 'mmsto', 'mnth', 'mnths', 'mo', 'moan', 'mob', 'mobile', 'mobiles', 'mobilesdirect', 'mobileupd8', 'mobs', 'moby', 'mode', 'model', 'modl', 'module', 'modules', 'mofo', 'moji', 'mojibiola', 'mokka', 'mom', 'moment', 'moments', 'moms', 'mon', 'monday', 'money', 'monkeys', 'mono', 'monoc', 'monos', 'month', 'monthly', 'months', 'mood', 'moon', 'moral', 'more', 'morefrmmob', 'morn', 'mornin', 'morning', 'mornings', 'morphine', 'most', 'mostly', 'mother', 'motherfucker', 'motive', 'motor', 'motorola', 'mountain', 'mouse', 'mouth', 'move', 'moved', 'moves', 'movie', 'movies', 'movietrivia', 'moving', 'mp3', 'mquiz', 'mr', 'mrng', 'mrt', 'ms', 'msg', 'msg150p', 'msging', 'msgrcvd', 'msgrcvd18', 'msgrcvdhg', 'msgs', 'msn', 'mt', 'mtalk', 'mth', 'mths', 'mtmsg', 'mtmsg18', 'mtmsgrcvd18', 'mu', 'muah', 'much', 'muchand', 'muchxxlove', 'mudyadhu', 'mufti', 'muht', 'multiply', 'multis', 'mum', 'mumhas', 'mummy', 'mums', 'mumtaz', 'mundhe', 'munsters', 'murali', 'murder', 'murdered', 'murderer', 'mus', 'mush', 'mushy', 'music', 'musical', 'must', 'musta', 'mutai', 'mutations', 'muz', 'my', 'mymoby', 'mys', 'myself', 'myspace', 'mystery', 'n8', 'n9dx', 'na', 'nag', 'nagar', 'nah', 'nails', 'naked', 'nalla', 'nalli', 'name', 'named', 'nammanna', 'nan', 'nange', 'nanny', 'nap', 'nasdaq', 'nasty', 'nat', 'natalie', 'natalie2k9', 'national', 'nationwide', 'nattil', 'natural', 'nature', 'natwest', 'naughty', 'nav', 'navigate', 'nb', 'nbme', 'nd', 'ndship', 'ne', 'near', 'nearby', 'nearer', 'nearly', 'necesity', 'necessarily', 'neck', 'necklace', 'ned', 'need', 'needed', 'needing', 'needle', 'needs', 'negative', 'neglet', 'neighbor', 'neighbors', 'neighbour', 'neither', 'neo69', 'nervous', 'neshanth', 'net', 'netcollex', 'netflix', 'nething', 'netun', 'netvision', 'network', 'networking', 'networks', 'neva', 'never', 'nevr', 'new', 'neway', 'newest', 'newport', 'newquay', 'news', 'newsletter', 'newspapers', 'next', 'nhs', 'ni8', 'nic', 'nice', 'nichols', 'nick', 'nickey', 'nicky', 'nig', 'nigeria', 'night', 'nighters', 'nights', 'nigpun', 'nigro', 'nike', 'nimbomsons', 'nimya', 'ninish', 'nit', 'nite', 'nitro', 'nitros', 'njan', 'nmde', 'no', 'no1', 'nobbing', 'nobody', 'noe', 'noice', 'noise', 'noisy', 'nok', 'nokia', 'nokia6600', 'nokia6650', 'nokias', 'noline', 'non', 'none', 'noon', 'noooooooo', 'nope', 'nor', 'norcorp', 'norm', 'norm150p', 'normal', 'normally', 'north', 'northampton', 'nos', 'nose', 'not', 'note', 'notebook', 'notes', 'nothin', 'nothing', 'notice', 'notifications', 'notified', 'nottingham', 'noun', 'november', 'now', 'nowhere', 'nr31', 'nri', 'nt', 'nte', 'ntt', 'ntwk', 'nudist', 'nuerologist', 'num', 'number', 'numbers', 'nursery', 'nurses', 'nurungu', 'nus', 'nusstu', 'nuther', 'nutter', 'nver', 'nvm', 'nw', 'nxt', 'ny', 'nyc', 'nydc', 'nyt', 'nz', 'nìâte', 'o2', 'o2fwd', 'obedient', 'obese', 'obviously', 'occasion', 'occupy', 'october', 'odalebeku', 'odi', 'of', 'ofcourse', 'off', 'offcampus', 'offense', 'offer', 'offering', 'offers', 'office', 'officer', 'official', 'officially', 'ofice', 'ofsi', 'ofstuff', 'often', 'ofå', 'ogunrinde', 'oh', 'oi', 'oic', 'oil', 'ok', 'okay', 'okday', 'okden', 'okey', 'okie', 'okies', 'okmail', 'okors', 'ola', 'olage', 'olave', 'olayiwola', 'old', 'oli', 'ollu', 'olympics', 'omg', 'omw', 'on', 'onbus', 'oncall', 'once', 'ondu', 'one', 'ones', 'oni', 'onion', 'online', 'onluy', 'only', 'onto', 'onum', 'onwards', 'oooh', 'oooooh', 'ooooooh', 'oops', 'open', 'opened', 'opener', 'openin', 'opening', 'operate', 'operator', 'opinion', 'opinions', 'opportunity', 'opposite', 'opps', 'opt', 'optin', 'option', 'optout', 'or', 'or2optout', 'or2stoptxt', 'oral', 'orange', 'oranges', 'orc', 'orchard', 'order', 'ordered', 'ore', 'oredi', 'oreo', 'org', 'organise', 'orh', 'orig', 'original', 'ors', 'ortxt', 'oru', 'oso', 'otbox', 'other', 'others', 'otherwise', 'othrwise', 'otside', 'ou', 'our', 'ourbacks', 'ours', 'out', 'outages', 'outbid', 'outfit', 'outrageous', 'outreach', 'outside', 'outsider', 'outstanding', 'outta', 'ovarian', 'over', 'overa', 'overdid', 'overemphasise', 'overheating', 'overtime', 'ovr', 'ovulate', 'ovulation', 'ow', 'owl', 'own', 'owned', 'owns', 'owo', 'oxygen', 'oyea', 'oz', 'pa', 'pack', 'package', 'packing', 'page', 'pages', 'pai', 'paid', 'pain', 'painful', 'paining', 'painting', 'pairs', 'pale', 'palm', 'pan', 'panalam', 'panasonic', 'pandy', 'panic', 'panren', 'pansy', 'panther', 'pants', 'pap', 'paper', 'papers', 'paperwork', 'paracetamol', 'parade', 'paragon', 'paragraphs', 'parantella', 'parchi', 'parco', 'parents', 'paris', 'park', 'parkin', 'part', 'particularly', 'parties', 'partner', 'partnership', 'parts', 'party', 'paru', 'pases', 'pass', 'passable', 'passed', 'passes', 'passion', 'passionate', 'passport', 'password', 'passwords', 'past', 'pataistha', 'patent', 'path', 'pathaya', 'paths', 'patrick', 'pattern', 'patty', 'paul', 'pause', 'pavanaputra', 'pay', 'payee', 'paying', 'payment', 'payoh', 'paypal', 'pc', 'pc1323', 'pdate_now', 'peace', 'peaceful', 'peach', 'peak', 'pears', 'pee', 'peeps', 'pen', 'pence', 'pendent', 'pending', 'penis', 'people', 'peoples', 'per', 'percentages', 'perf', 'perfect', 'perform', 'performed', 'perfume', 'perhaps', 'peril', 'period', 'permission', 'permissions', 'perpetual', 'persevered', 'persolvo', 'person', 'personal', 'personally', 'persons', 'pesky', 'pete', 'petrol', 'petticoatdreams', 'pg', 'ph', 'pharmacy', 'phb1', 'phd', 'phews', 'philosophical', 'philosophy', 'phne', 'phoenix', 'phone', 'phone750', 'phonebook', 'phoned', 'phones', 'photo', 'photos', 'photoshop', 'php', 'phyhcmk', 'pic', 'pick', 'picked', 'picking', 'pickle', 'pics', 'picsfree1', 'picture', 'pictures', 'pie', 'piece', 'pieces', 'pierre', 'pig', 'piggy', 'pilates', 'pimples', 'pin', 'pink', 'pints', 'pisces', 'piss', 'pissed', 'pist', 'pity', 'pix', 'pixels', 'pizza', 'pl', 'place', 'placed', 'placement', 'places', 'plaid', 'plan', 'plane', 'planet', 'planettalkinstant', 'planned', 'planning', 'plans', 'plate', 'platt', 'play', 'played', 'player', 'players', 'playin', 'playing', 'plaza', 'pleasant', 'please', 'pleased', 'pleassssssseeeeee', 'pleasure', 'pleasured', 'plenty', 'plm', 'pls', 'plum', 'plumbers', 'plural', 'plus', 'plyr', 'plz', 'pm', 'pmt', 'po', 'po19', 'pobox', 'pobox1', 'pobox114', 'pobox12n146tf15', 'pobox12n146tf150p', 'pobox202', 'pobox334', 'pobox36504w45wq', 'pobox365o4w45wq', 'pobox45w2tg150p', 'pobox75ldns7', 'pobox84', 'pocay', 'pocked', 'pocketbabe', 'pockets', 'pocy', 'pod', 'poem', 'poet', 'point', 'points', 'poker', 'poking', 'police', 'polo', 'poly', 'poly3', 'polyc', 'polyh', 'polyph', 'polyphonic', 'polys', 'pongal', 'ponnungale', 'poo', 'pooja', 'pookie', 'pool', 'poop', 'poor', 'poorly', 'poortiyagi', 'pop', 'popcorn', 'popped', 'popping', 'porn', 'porridge', 'port', 'portal', 'pose', 'posh', 'position', 'positions', 'positive', 'possession', 'possessive', 'possessiveness', 'possible', 'post', 'postal', 'postcard', 'postcode', 'posted', 'posts', 'potential', 'potter', 'pound', 'pounded', 'pounds', 'poured', 'pouts', 'power', 'powerful', 'ppl', 'pple', 'ppm', 'ppt150x3', 'prabha', 'prabu', 'practical', 'practice', 'practicing', 'practicum', 'practising', 'praises', 'prasanth', 'prashanthettan', 'praveesh', 'pray', 'prayers', 'praying', 'prayrs', 'pre', 'predict', 'predicte', 'predicting', 'prediction', 'predictive', 'prefer', 'preferably', 'prem', 'premarica', 'premier', 'premium', 'prepaid', 'prepare', 'prepared', 'prepayment', 'prescribed', 'prescription', 'present', 'presents', 'presleys', 'press', 'prestige', 'pretend', 'pretsorginta', 'pretsovru', 'pretty', 'prevent', 'previews', 'previous', 'prey', 'price', 'prices', 'pride', 'priest', 'prin', 'prince', 'princes', 'princess', 'print', 'printed', 'printing', 'prior', 'priority', 'priscilla', 'privacy', 'private', 'prix', 'prize', 'prizeawaiting', 'prizes', 'prizeswith', 'pro', 'prob', 'probably', 'problem', 'problems', 'problms', 'problum', 'probs', 'process', 'processed', 'prods', 'products', 'prof', 'professional', 'professors', 'profile', 'profit', 'program', 'programs', 'progress', 'project', 'prolly', 'prometazine', 'prominent', 'promise', 'promised', 'promises', 'promo', 'promotion', 'promptly', 'prompts', 'prone', 'proof', 'proove', 'proper', 'properly', 'property', 'propose', 'props', 'propsd', 'prospects', 'protect', 'provided', 'provider', 'providing', 'province', 'proze', 'prsn', 'ps', 'ps3', 'psp', 'pt2', 'ptbo', 'pub', 'public', 'publish', 'pull', 'pulling', 'pulls', 'punch', 'punish', 'punishment', 'punj', 'puppy', 'purchase', 'purchases', 'pure', 'purple', 'purse', 'push', 'pushbutton', 'pushes', 'pussy', 'put', 'puttin', 'putting', 'puzzeles', 'puzzles', 'på', 'qatar', 'qet', 'qi', 'qing', 'qlynnbv', 'quality', 'que', 'queen', 'queries', 'ques', 'question', 'questioned', 'questions', 'quick', 'quickly', 'quiet', 'quit', 'quite', 'quiteamuzing', 'quitting', 'quiz', 'quizclub', 'quizzes', 'quote', 'quoting', 'r836', 'racing', 'radio', 'raed', 'rael', 'raglan', 'rahul', 'raiden', 'railway', 'rain', 'raining', 'raise', 'raised', 'raj', 'rajas', 'raji', 'rajini', 'rajitha', 'rakhesh', 'raksha', 'ramaduth', 'ran', 'random', 'randomlly', 'randomly', 'randy', 'rang', 'range', 'ranjith', 'ranju', 'rate', 'rates', 'rather', 'rats', 'rawring', 'rayan', 'rayman', 'rays', 'rcb', 'rcd', 'rcv', 'rcvd', 'rd', 'rdy', 're', 'reach', 'reache', 'reached', 'reaching', 'reaction', 'read', 'readers', 'readiness', 'reading', 'ready', 'real', 'real1', 'realise', 'realising', 'reality', 'realize', 'realized', 'realizes', 'really', 'realy', 'reapply', 'reason', 'reasonable', 'reasons', 'reassurance', 'reassuring', 'rebel', 'reboot', 'rebtel', 'rec', 'recd', 'receipt', 'receipts', 'receive', 'received', 'receiving', 'recent', 'recently', 'recession', 'recharge', 'recharged', 'recieve', 'reckon', 'recognise', 'recognises', 'record', 'recorder', 'records', 'recovery', 'recpt', 'recreation', 'recycling', 'red', 'redeemable', 'redeemed', 'ree', 'ref', 'reference', 'reffering', 'refilled', 'reflection', 'reflex', 'reformat', 'refreshed', 'refund', 'refunded', 'reg', 'regalportfolio', 'regarding', 'regards', 'register', 'registered', 'regret', 'regretted', 'regular', 'rejected', 'related', 'relation', 'relationship', 'relatives', 'relax', 'relaxing', 'released', 'reliant', 'relieved', 'religiously', 'relocate', 'rem', 'remain', 'remains', 'remb', 'remember', 'remembered', 'rememberi', 'remembr', 'remembrs', 'remind', 'reminder', 'reminding', 'removal', 'remove', 'removed', 'renewal', 'rent', 'rental', 'rentl', 'rents', 'repair', 'repairs', 'repeat', 'repeating', 'repent', 'replacement', 'replied', 'replies', 'reply', 'replying', 'replys150', 'report', 'representative', 'republic', 'request', 'requests', 'require', 'required', 'research', 'resend', 'resent', 'reservations', 'reserve', 'reserved', 'reset', 'reslove', 'resolved', 'resort', 'respect', 'respectful', 'responce', 'respond', 'responding', 'response', 'responsibility', 'responsible', 'rest', 'restaurant', 'restock', 'restrictions', 'result', 'results', 'resume', 'resuming', 'retard', 'retrieve', 'return', 'returned', 'returning', 'returns', 'reunion', 'reveal', 'revealed', 'revealing', 'review', 'revision', 'reward', 'rewarding', 'rgds', 'rhode', 'rhythm', 'rice', 'rich', 'ridden', 'ride', 'right', 'rightio', 'rimac', 'ring', 'ringing', 'rings', 'ringtone', 'ringtoneking', 'ringtones', 'ringtoneåá', 'rip', 'ripped', 'risks', 'rite', 'road', 'roads', 'roast', 'rob', 'robinson', 'robs', 'rock', 'rocking', 'rocks', 'rofl', 'roger', 'role', 'roles', 'roller', 'romantic', 'ron', 'room', 'roommate', 'roommates', 'rooms', 'rose', 'roses', 'rough', 'round', 'rounder', 'route', 'row', 'rowdy', 'royal', 'rp176781', 'rpl', 'rply', 'rr', 'rs', 'rt', 'rtf', 'rtm', 'rto', 'ru', 'rub', 'rubber', 'rude', 'rudi', 'rugby', 'ruining', 'rule', 'rules', 'rum', 'rummer', 'run', 'running', 'runs', 'rush', 'rushing', 'rwm', 'ryan', 'ryder', 's3xy', 's89', 'sac', 'sachin', 'sack', 'sacked', 'sacrifice', 'sad', 'sae', 'safe', 'safely', 'safety', 'said', 'sake', 'salad', 'salam', 'salary', 'sale', 'sales', 'salesman', 'salmon', 'salon', 'salt', 'sam', 'samantha', 'sambar', 'same', 'sandiago', 'sang', 'sankatmochan', 'sankranti', 'santa', 'santacalling', 'sao', 'sapna', 'sar', 'sara', 'sarasota', 'sarcasm', 'sarcastic', 'saristar', 'sary', 'sat', 'sathy', 'satisfied', 'satisfy', 'saturday', 'saucy', 'savamob', 'save', 'saved', 'saves', 'saw', 'say', 'saying', 'says', 'sayy', 'sc', 'scallies', 'scammers', 'scared', 'scary', 'scenario', 'sch', 'schedule', 'school', 'schools', 'science', 'scold', 'score', 'scores', 'scoring', 'scotch', 'scotland', 'scouse', 'scraped', 'scrappy', 'scratches', 'scratching', 'scream', 'screamed', 'screaming', 'screwd', 'scrounge', 'scrumptious', 'sculpture', 'sd', 'sday', 'sdryb8i', 'se', 'sea', 'search', 'searching', 'season', 'seat', 'sec', 'second', 'secondary', 'seconds', 'secret', 'secretly', 'secrets', 'secs', 'section', 'secure', 'sed', 'see', 'seeing', 'seeking', 'seem', 'seemed', 'seems', 'seen', 'sef', 'seh', 'sehwag', 'seing', 'select', 'selected', 'selection', 'self', 'selfish', 'selflessness', 'sell', 'selling', 'sells', 'sem', 'semester', 'semi', 'sen', 'send', 'sender', 'sending', 'sends', 'senor', 'sense', 'senses', 'sensitive', 'sent', 'sentence', 'senthil', 'sentiment', 'seperated', 'sept', 'serena', 'series', 'serious', 'seriously', 'served', 'server', 'service', 'services', 'serving', 'servs', 'set', 'setting', 'settings', 'settle', 'settled', 'seven', 'seventeen', 'several', 'sex', 'sexiest', 'sextextuk', 'sexy', 'sexychat', 'sez', 'sf', 'sg', 'sha', 'shade', 'shadow', 'shag', 'shagged', 'shahjahan', 'shakara', 'shake', 'shakespeare', 'shaking', 'shall', 'shame', 'shampain', 'shanghai', 'shant', 'share', 'shared', 'sharing', 'shattered', 'shb', 'shd', 'she', 'sheet', 'sheets', 'sheffield', 'shelf', 'shell', 'sherawat', 'shes', 'shesil', 'shhhhh', 'shifad', 'shijutta', 'shinco', 'shindig', 'shining', 'shiny', 'ship', 'shipped', 'shipping', 'shirt', 'shirts', 'shit', 'shite', 'shitinnit', 'shitload', 'shivratri', 'shld', 'shldxxxx', 'shock', 'shocking', 'shoes', 'shoot', 'shop', 'shoppin', 'shopping', 'shoranur', 'shore', 'short', 'shortage', 'shortbreaks', 'shortcode', 'shorter', 'shortly', 'shot', 'shoul', 'should', 'shouldn', 'shouted', 'shouting', 'shove', 'show', 'showed', 'shower', 'showers', 'showing', 'shows', 'shracomorsglsuplt', 'shrek', 'shrink', 'shrub', 'shsex', 'shu', 'shuhui', 'shun', 'shut', 'shy', 'si', 'sian', 'sib', 'sick', 'sickness', 'side', 'sigh', 'sighs', 'sight', 'sign', 'significance', 'significant', 'signin', 'signing', 'siguviri', 'silence', 'silent', 'silently', 'silly', 'silver', 'sim', 'simonwatson5120', 'simple', 'simpler', 'simply', 'simpsons', 'simulate', 'since', 'sinco', 'sindu', 'sing', 'singapore', 'singing', 'single', 'singles', 'sip', 'sipix', 'sips', 'sir', 'sis', 'sister', 'sisters', 'sit', 'site', 'sitll', 'sitter', 'sittin', 'sitting', 'situation', 'situations', 'siva', 'six', 'size', 'sized', 'sk3', 'sk38xh', 'skateboarding', 'skilgme', 'skillgame', 'skins', 'skip', 'sky', 'skype', 'skyving', 'slaaaaave', 'slacking', 'slap', 'slave', 'sleep', 'sleepin', 'sleeping', 'sleepingwith', 'sleeps', 'sleepwell', 'sleepy', 'slept', 'slice', 'slices', 'slide', 'sliding', 'slightly', 'slip', 'slippers', 'slippery', 'slo', 'slots', 'slow', 'slowing', 'slowly', 'slp', 'smacks', 'small', 'smaller', 'smart', 'smartcall', 'smarter', 'smash', 'smashed', 'smear', 'smells', 'smeone', 'smile', 'smiled', 'smiles', 'smiley', 'smiling', 'smith', 'smoke', 'smoked', 'smokes', 'smoking', 'smoothly', 'sms', 'smsco', 'smsrewards', 'smth', 'sn', 'snake', 'snap', 'snappy', 'snatch', 'snd', 'snickering', 'snoring', 'snow', 'snowball', 'snowboarding', 'snowman', 'snuggles', 'so', 'soc', 'social', 'sofa', 'soft', 'software', 'soiree', 'sol', 'soladha', 'sold', 'solve', 'solved', 'some', 'some1', 'somebody', 'someone', 'someonone', 'somethin', 'something', 'sometime', 'sometimes', 'sometme', 'somewhat', 'somewhere', 'somewheresomeone', 'somone', 'somtimes', 'sonathaya', 'sonetimes', 'song', 'songs', 'sony', 'sonyericsson', 'soo', 'soon', 'sooner', 'soonlots', 'sooo', 'soooo', 'sooooo', 'sophas', 'sore', 'sorrows', 'sorry', 'sort', 'sorta', 'sorted', 'sorting', 'sory', 'soryda', 'soul', 'sound', 'sounds', 'soundtrack', 'soundåõs', 'soup', 'source', 'south', 'southern', 'souveniers', 'soz', 'sozi', 'sp', 'space', 'spacebucks', 'spageddies', 'spain', 'spam', 'spanish', 'spare', 'spares', 'spark', 'sparkling', 'spatula', 'speak', 'speaking', 'special', 'speciale', 'specialisation', 'specialise', 'specially', 'specific', 'specify', 'speechless', 'speed', 'speedchat', 'speeding', 'speling', 'spell', 'spelled', 'spend', 'spending', 'spent', 'sphosting', 'spider', 'spiffing', 'spile', 'spin', 'spinout', 'spirit', 'spiritual', 'spk', 'spl', 'splashmobile', 'splat', 'splendid', 'split', 'splleing', 'spoil', 'spoiled', 'spoilt', 'spoke', 'spoken', 'sponsors', 'spontaneously', 'spook', 'spoons', 'sporadically', 'sport', 'sports', 'sportsx', 'spot', 'spotty', 'spouse', 'spreadsheet', 'spree', 'spring', 'springs', 'sprint', 'sptv', 'spun', 'sq825', 'squatting', 'squeeeeeze', 'squeezed', 'squid', 'srs', 'srsly', 'srt', 'sry', 'st', 'stability', 'stadium', 'staff', 'stage', 'stagwood', 'stairs', 'stalking', 'stamped', 'stamps', 'stand', 'standard', 'standing', 'star', 'staring', 'starring', 'stars', 'starshine', 'start', 'started', 'starting', 'starts', 'starve', 'starving', 'starwars3', 'stash', 'stated', 'statement', 'statements', 'station', 'status', 'stay', 'stayed', 'stayin', 'staying', 'stays', 'std', 'stdtxtrate', 'steak', 'steal', 'stealing', 'steam', 'steed', 'step', 'sterling', 'sterm', 'steve', 'steyn', 'stick', 'sticky', 'stil', 'still', 'stock', 'stockport', 'stolen', 'stomach', 'stomps', 'stone', 'stoners', 'stones', 'stool', 'stop', 'stop2', 'stop2stop', 'stopbcm', 'stopcost', 'stopcs', 'stopped', 'stops', 'stopsms', 'stoptxtstopå', 'store', 'stores', 'storming', 'story', 'str', 'str8', 'straight', 'strange', 'stream', 'street', 'stress', 'stressed', 'stressful', 'stressfull', 'stretch', 'strict', 'strings', 'strips', 'strong', 'strt', 'strtd', 'sts', 'stubborn', 'stuck', 'studdying', 'student', 'studentfinancial', 'students', 'studio', 'study', 'studying', 'studyn', 'stuff', 'stuff42moro', 'stuffs', 'stunning', 'stupid', 'style', 'styles', 'styling', 'stylish', 'sub', 'subletting', 'submitting', 'subpoly', 'subs', 'subscribe', 'subscribed', 'subscriber', 'subscribers', 'subscription', 'subscriptions', 'subscriptn3gbp', 'subscrition', 'subsequent', 'subtoitles', 'success', 'successful', 'successfully', 'such', 'sucker', 'suckers', 'sucks', 'sudden', 'suddenly', 'sudn', 'sue', 'suffer', 'suffers', 'sugababes', 'sugar', 'suggest', 'suggestions', 'suite', 'suite342', 'suitemates', 'suits', 'sum', 'sum1', 'sumfing', 'summer', 'summers', 'summon', 'sumthin', 'sun', 'sun0819', 'sunday', 'sunlight', 'sunny', 'sunoco', 'sunscreen', 'sunshine', 'suntec', 'sup', 'super', 'superb', 'superior', 'supervisor', 'supose', 'suppliers', 'support', 'supports', 'suppose', 'supposed', 'supreme', 'suprman', 'sura', 'sure', 'surely', 'surf', 'surfing', 'surgical', 'surly', 'surprise', 'surprised', 'surrender', 'survey', 'sutra', 'sux', 'suzy', 'svc', 'sw73ss', 'swalpa', 'swan', 'swann', 'swap', 'swashbuckling', 'swatch', 'sway', 'swayze', 'sweater', 'sweatter', 'sweet', 'sweetest', 'sweetheart', 'sweetie', 'sweets', 'swell', 'swhrt', 'swimming', 'swimsuit', 'swing', 'switch', 'swollen', 'swoop', 'swt', 'swtheart', 'syd', 'syllabus', 'symbol', 'symptoms', 'syria', 'syrup', 'system', 'systems', 'ta', 'tablet', 'tablets', 'tackle', 'tacos', 'tai', 'tait', 'taj', 'taka', 'take', 'takecare', 'taken', 'takes', 'takin', 'taking', 'talent', 'talents', 'talk', 'talkbut', 'talked', 'talkin', 'talking', 'talks', 'tall', 'tallahassee', 'tallent', 'tamilnadu', 'tampa', 'tank', 'tap', 'tape', 'tariffs', 'tarot', 'tarpon', 'taste', 'tasts', 'tat', 'tats', 'tattoos', 'taught', 'taunton', 'taxes', 'taxi', 'taylor', 'tayseer', 'tb', 'tbs', 'tc', 'tcr', 'tcs', 'tddnewsletter', 'tea', 'teach', 'teacher', 'teachers', 'teaches', 'teaching', 'team', 'teams', 'tear', 'tears', 'tease', 'teasing', 'tech', 'technical', 'technologies', 'tee', 'teenager', 'teeth', 'tel', 'telediscount', 'teletext', 'tell', 'telling', 'tellmiss', 'tells', 'telly', 'telphone', 'telugu', 'temales', 'temp', 'temple', 'ten', 'tenerife', 'tensed', 'tension', 'teresa', 'term', 'terminated', 'terms', 'termsapply', 'terrible', 'terrific', 'terror', 'terry', 'tescos', 'test', 'testing', 'tests', 'tex', 'texas', 'text', 'textand', 'textbook', 'textbuddy', 'textcomp', 'texted', 'textin', 'texting', 'textoperator', 'textpod', 'texts', 'tgxxrz', 'th', 'than', 'thangam', 'thank', 'thanks', 'thanksgiving', 'thanku', 'thankyou', 'thanx', 'thanx4', 'that', 'thatmum', 'thats', 'thatåõs', 'thatåõscool', 'the', 'the4th', 'theacusations', 'theater', 'theatre', 'thedailydraw', 'their', 'them', 'themed', 'themes', 'themob', 'then', 'thenampet', 'theoretically', 'theory', 'theplace', 'there', 'these', 'thesedays', 'thesis', 'thesmszone', 'thew', 'they', 'theyre', 'thgt', 'thia', 'thin', 'thing', 'things', 'think', 'thinked', 'thinkin', 'thinking', 'thinks', 'thinl', 'thirtyeight', 'thirunelvali', 'this', 'thk', 'thkin', 'thm', 'thnk', 'thnx', 'tho', 'those', 'thot', 'thou', 'though', 'thought', 'thoughts', 'thousands', 'thout', 'thread', 'threats', 'three', 'threw', 'thriller', 'throat', 'through', 'throw', 'throwin', 'throwing', 'thrown', 'throws', 'thru', 'ths', 'tht', 'thts', 'thuglyfe', 'thurs', 'thursday', 'thx', 'thy', 'tick', 'ticket', 'tickets', 'tiempo', 'tiger', 'tigress', 'tihs', 'tiime', 'til', 'till', 'tim', 'time', 'times', 'timi', 'timing', 'timings', 'tips', 'tired', 'tirunelvai', 'tirunelvali', 'tirupur', 'tis', 'tissco', 'title', 'titles', 'tiwary', 'tix', 'tiz', 'tke', 'tkls', 'tkts', 'tlp', 'tm', 'tming', 'tmr', 'tmrw', 'tms', 'tmw', 'tnc', 'tncs', 'to', 'toa', 'toaday', 'tobed', 'tocall', 'toclaim', 'today', 'todays', 'tog', 'together', 'tohar', 'toilet', 'tok', 'token', 'toking', 'tol', 'told', 'toledo', 'toll', 'tom', 'tomarrow', 'tomo', 'tomorro', 'tomorrow', 'tone', 'tones', 'tones2u', 'tones2you', 'tongued', 'tonight', 'tonights', 'tonite', 'tons', 'too', 'took', 'tooo', 'toot', 'tooth', 'toothpaste', 'top', 'topic', 'topped', 'tops', 'tor', 'torch', 'torrents', 'tortilla', 'torture', 'tosend', 'toshiba', 'toss', 'tot', 'total', 'totally', 'touch', 'touched', 'tough', 'toughest', 'tour', 'towards', 'town', 'toxic', 'toyota', 'track', 'trackmarque', 'trade', 'traditions', 'traffic', 'train', 'training', 'trains', 'tram', 'tranquility', 'transaction', 'transcribing', 'transfer', 'transfered', 'transfr', 'transfred', 'transport', 'trash', 'trav', 'travel', 'travelled', 'travelling', 'treacle', 'treadmill', 'treasure', 'treat', 'treated', 'treatin', 'trebles', 'tree', 'trek', 'trial', 'tried', 'trip', 'triple', 'trips', 'trishul', 'triumphed', 'trivia', 'tron', 'trouble', 'troubleshooting', 'truck', 'true', 'true18', 'trueåác', 'truffles', 'truly', 'truro', 'trust', 'trusting', 'truth', 'try', 'tryin', 'trying', 'ts', 'tsandcs', 'tscs', 'tscs08714740323', 'tscs087147403231winawk', 'tsunamis', 'tt', 'ttyl', 'tue', 'tues', 'tuesday', 'tui', 'tuition', 'tul', 'tunde', 'tunji', 'turn', 'turned', 'turning', 'turns', 'tv', 'twat', 'twelve', 'twenty', 'twice', 'twilight', 'twinks', 'twittering', 'two', 'txt', 'txt250', 'txt43', 'txtauction', 'txtin', 'txting', 'txts', 'txtstar', 'txttowin', 'txtx', 'tyler', 'type', 'types', 'tyrone', 'u4', 'uawake', 'ubi', 'ud', 'ugadi', 'ugh', 'ugo', 'uhhhhrmm', 'uin', 'ujhhhhhhh', 'uk', 'ukp', 'uks', 'ultimate', 'ultimately', 'um', 'umma', 'ummifying', 'ummma', 'ummmmmaah', 'un', 'unable', 'unbelievable', 'unbreakable', 'uncle', 'uncles', 'uncomfortable', 'unconsciously', 'uncountable', 'under', 'understand', 'understanding', 'understood', 'undrstnd', 'undrstndng', 'unemployed', 'uneventful', 'unfolds', 'unfortunately', 'unhappy', 'uni', 'uniform', 'unintentionally', 'unique', 'units', 'university', 'unkempt', 'unknown', 'unless', 'unlimited', 'unmits', 'unnecessarily', 'unni', 'unrecognized', 'unsold', 'unsub', 'unsubscribe', 'unsubscribed', 'untamed', 'until', 'up', 'up4', 'upd8', 'updat', 'update', 'update_now', 'upgrade', 'upgrdcentre', 'upload', 'uploaded', 'upset', 'upstairs', 'upto', 'uptown', 'ur', 'urawinner', 'ure', 'urgent', 'urgently', 'urgh', 'urgnt', 'urination', 'url', 'urn', 'urself', 'us', 'usa', 'usb', 'usc', 'use', 'used', 'useful', 'useless', 'user', 'uses', 'usf', 'usher', 'using', 'usmle', 'usual', 'usually', 'uterus', 'uttered', 'uup', 'uv', 'uve', 'va', 'vaazhthukkal', 'vale', 'valentine', 'valentines', 'valid', 'valid12hrs', 'valuable', 'value', 'valued', 'values', 'valuing', 'vargu', 'various', 'varma', 'varunnathu', 'vary', 'vasai', 'vat', 'vava', 've', 'vegetables', 'veggie', 'velachery', 'velly', 'velusamy', 'venugopal', 'verify', 'verifying', 'version', 'versus', 'very', 'vettam', 'vewy', 'via', 'vibrant', 'vibrate', 'vibrator', 'vic', 'victoria', 'victors', 'vid', 'video', 'videochat', 'videophones', 'videos', 'view', 'vikky', 'vilikkam', 'vill', 'villa', 'village', 'violated', 'violence', 'vip', 'vipclub4u', 'virgil', 'virgin', 'virtual', 'visa', 'visionsms', 'visit', 'visiting', 'visitor', 'visitors', 'vivek', 'vl', 'voda', 'vodafone', 'vodka', 'voice', 'voicemail', 'voila', 'volcanoes', 'vomit', 'vomiting', 'vote', 'voted', 'vouch4me', 'voucher', 'vouchers', 'vpod', 'vry', 'vs', 'vth', 'vu', 'w1', 'w111wx', 'w14rg', 'w1a', 'w1j', 'w1j6hl', 'w1jhl', 'w1t1jy', 'w4', 'w45wq', 'w8in', 'wa', 'wa14', 'waaaat', 'wad', 'wadebridge', 'wah', 'wahala', 'waheed', 'wahleykkum', 'waht', 'wait', 'waited', 'waitin', 'waiting', 'wake', 'waking', 'wales', 'waliking', 'walk', 'walkabout', 'walked', 'walking', 'walks', 'wall', 'wallet', 'wallpaper', 'walls', 'walmart', 'walsall', 'wamma', 'wan', 'wan2', 'wana', 'wanna', 'wannatell', 'want', 'wanted', 'wanting', 'wants', 'wap', 'warm', 'warming', 'warned', 'warning', 'warranty', 'warwick', 'was', 'washob', 'wasn', 'wasnt', 'wasnåõt', 'waste', 'wasted', 'wasting', 'wat', 'watch', 'watched', 'watches', 'watchin', 'watching', 'water', 'watever', 'watevr', 'wating', 'watr', 'wats', 'watts', 'wave', 'wavering', 'waves', 'way', 'wc1n', 'wc1n3xx', 'we', 'weak', 'weakness', 'weaknesses', 'weapon', 'wear', 'wearing', 'weaseling', 'weather', 'web', 'web2mobile', 'webadres', 'webeburnin', 'website', 'wed', 'weddin', 'wedding', 'weddingfriend', 'wednesday', 'wee', 'weed', 'week', 'weekdays', 'weekend', 'weekends', 'weekly', 'weeks', 'weigh', 'weighed', 'weight', 'weird', 'weirdest', 'weirdy', 'weiyi', 'welcome', 'welcomes', 'well', 'wellda', 'welp', 'wen', 'wendy', 'wenever', 'went', 'wenwecan', 'wer', 'were', 'werebored', 'wesley', 'wesleys', 'west', 'western', 'westlife', 'westonzoyland', 'westshore', 'wet', 'wetherspoons', 'wewa', 'weåõve', 'whassup', 'what', 'whatever', 'whats', 'when', 'whenever', 'whenevr', 'whens', 'where', 'wherever', 'wherevr', 'wherre', 'whether', 'which', 'while', 'whispers', 'white', 'whn', 'who', 'whole', 'whom', 'whore', 'whos', 'whose', 'whr', 'why', 'wi', 'wicked', 'wicket', 'wicklow', 'wid', 'widelive', 'wif', 'wife', 'wifes', 'wifi', 'wihtuot', 'wil', 'wild', 'wildest', 'will', 'willing', 'win', 'wind', 'window', 'windows', 'winds', 'windy', 'wine', 'wined', 'wings', 'winner', 'winnersclub', 'winning', 'wins', 'winterstone', 'wipro', 'wisdom', 'wise', 'wish', 'wisheds', 'wishes', 'wishin', 'wishing', 'wishlist', 'wiskey', 'wit', 'with', 'within', 'without', 'witin', 'witot', 'witout', 'wiv', 'wk', 'wkend', 'wkg', 'wkly', 'wknd', 'wks', 'wlcome', 'wld', 'wml', 'wn', 'wnevr', 'wnt', 'woah', 'wocay', 'woke', 'woken', 'woman', 'womdarfull', 'women', 'won', 'wondar', 'wonder', 'wonderful', 'wondering', 'wont', 'woods', 'woohoo', 'woould', 'worc', 'word', 'words', 'work', 'workage', 'workin', 'working', 'works', 'world', 'worlds', 'worried', 'worries', 'worry', 'worrying', 'worse', 'worst', 'worth', 'wot', 'wotu', 'woul', 'would', 'wouldn', 'wounds', 'wow', 'wrecked', 'wrench', 'wrenching', 'wright', 'write', 'wrk', 'wrkin', 'wrking', 'wrks', 'wrld', 'wrnog', 'wrong', 'wrote', 'ws', 'wt', 'wtc', 'wtf', 'wth', 'wthout', 'wtlp', 'wud', 'wudn', 'wuld', 'wuldnt', 'wun', 'www', 'wylie', 'x49', 'xam', 'xavier', 'xchat', 'xclusive', 'xin', 'xmas', 'xoxo', 'xuhui', 'xx', 'xxsp', 'xxuk', 'xxx', 'xxxx', 'xxxxx', 'xxxxxxxxxxxxxx', 'xy', 'ya', 'yah', 'yahoo', 'yalrigu', 'yalru', 'yam', 'yan', 'yar', 'yarasu', 'yavnt', 'yaxx', 'yaxxx', 'yay', 'yck', 'yeah', 'year', 'years', 'yeesh', 'yeh', 'yelling', 'yellow', 'yelow', 'yen', 'yeovil', 'yep', 'yer', 'yes', 'yest', 'yesterday', 'yet', 'yetty', 'yhl', 'yi', 'yijue', 'ym', 'ymca', 'yo', 'yoga', 'yogasana', 'yor', 'yorge', 'you', 'youdoing', 'young', 'younger', 'youphone', 'your', 'youre', 'yourjob', 'yours', 'yourself', 'youuuuu', 'youwanna', 'youåõre', 'yoville', 'yowifes', 'yoyyooo', 'yr', 'yrs', 'ystrday', 'yummmm', 'yummy', 'yun', 'yunny', 'yuo', 'yuou', 'yup', 'zac', 'zaher', 'zebra', 'zed', 'zhong', 'zoe', 'zogtorius', 'zoom', 'zouk', 'åè10', 'åð', 'åôrents', 'ì_', 'ìä', 'ìï', 'ó_', 'û_', 'û_thanks', 'ûªm', 'ûªt', 'ûªve', 'ûï', 'ûïharry', 'ûò', 'ûówell']\n"
          ],
          "name": "stdout"
        }
      ]
    },
    {
      "cell_type": "code",
      "metadata": {
        "id": "BgBjOgx3oSje",
        "colab_type": "code",
        "colab": {}
      },
      "source": [
        "def longest_train_token(all_train_words):\n",
        "  longest_token = []\n",
        "  for word in all_train_words:\n",
        "        if len(word) > len(longest_token):\n",
        "            longest_token = word\n",
        "  return longest_token"
      ],
      "execution_count": 0,
      "outputs": []
    },
    {
      "cell_type": "code",
      "metadata": {
        "id": "5ygW5IODtznJ",
        "colab_type": "code",
        "outputId": "8b228926-de0d-46be-82d4-13ebfb62fa89",
        "colab": {
          "base_uri": "https://localhost:8080/",
          "height": 34
        }
      },
      "source": [
        "longest_train_token(all_train_words)"
      ],
      "execution_count": 0,
      "outputs": [
        {
          "output_type": "execute_result",
          "data": {
            "text/plain": [
              "'hypotheticalhuagauahahuagahyuhagga'"
            ]
          },
          "metadata": {
            "tags": []
          },
          "execution_count": 155
        }
      ]
    },
    {
      "cell_type": "markdown",
      "metadata": {
        "id": "jZRDEKE1ubmG",
        "colab_type": "text"
      },
      "source": [
        "# Question-3:\n",
        "### *Transform the train data ,fitted with count vectorizer. Using multinomial Naive Bayes classifier fit the model taking smoothing alpha value appropriately. Using the test data,find the area under the curve (AUC) score.*"
      ]
    },
    {
      "cell_type": "markdown",
      "metadata": {
        "id": "22L9BwL59-AX",
        "colab_type": "text"
      },
      "source": [
        "### *1) Analysis of Confusion Matrix:*"
      ]
    },
    {
      "cell_type": "code",
      "metadata": {
        "id": "2Nxjn6jqund8",
        "colab_type": "code",
        "colab": {}
      },
      "source": [
        "# Implementing Mulyinomial Naive Bayes\n",
        "from sklearn import metrics\n",
        "from sklearn.naive_bayes import MultinomialNB\n",
        "mnb_model = MultinomialNB(alpha = 0.3) # Appropriate alpha"
      ],
      "execution_count": 0,
      "outputs": []
    },
    {
      "cell_type": "code",
      "metadata": {
        "id": "vAdyuf9W_muK",
        "colab_type": "code",
        "outputId": "eb79f0e1-78e7-494d-ee4b-e670f1678978",
        "colab": {
          "base_uri": "https://localhost:8080/",
          "height": 34
        }
      },
      "source": [
        "mnb_model.fit(X_train_cv, y_train.astype('int'))"
      ],
      "execution_count": 0,
      "outputs": [
        {
          "output_type": "execute_result",
          "data": {
            "text/plain": [
              "MultinomialNB(alpha=0.3, class_prior=None, fit_prior=True)"
            ]
          },
          "metadata": {
            "tags": []
          },
          "execution_count": 243
        }
      ]
    },
    {
      "cell_type": "code",
      "metadata": {
        "id": "wrhqNX5ZqROr",
        "colab_type": "code",
        "outputId": "fec338ca-3bd6-45a6-f5ce-bf4a42462d1f",
        "colab": {
          "base_uri": "https://localhost:8080/",
          "height": 34
        }
      },
      "source": [
        "print(mnb_model)"
      ],
      "execution_count": 0,
      "outputs": [
        {
          "output_type": "stream",
          "text": [
            "MultinomialNB(alpha=0.3, class_prior=None, fit_prior=True)\n"
          ],
          "name": "stdout"
        }
      ]
    },
    {
      "cell_type": "code",
      "metadata": {
        "id": "FsjSkAD9GXAB",
        "colab_type": "code",
        "colab": {}
      },
      "source": [
        "#print(X_train_cv)\n",
        "X_train_cv= cv.fit_transform(X_train)\n",
        "X_test_cv = cv.transform(X_test)\n",
        "\n"
      ],
      "execution_count": 0,
      "outputs": []
    },
    {
      "cell_type": "code",
      "metadata": {
        "id": "nUK5yhkuIbp-",
        "colab_type": "code",
        "colab": {}
      },
      "source": [
        "y_pred = mnb_model.predict(X_test_cv)"
      ],
      "execution_count": 0,
      "outputs": []
    },
    {
      "cell_type": "code",
      "metadata": {
        "id": "xsNLfKixqznY",
        "colab_type": "code",
        "outputId": "55fb7b15-2ad0-439c-9c9e-c226b6c50bd2",
        "colab": {
          "base_uri": "https://localhost:8080/",
          "height": 34
        }
      },
      "source": [
        "from sklearn import metrics\n",
        "metrics.accuracy_score(y_test, y_pred)"
      ],
      "execution_count": 0,
      "outputs": [
        {
          "output_type": "execute_result",
          "data": {
            "text/plain": [
              "0.9858156028368794"
            ]
          },
          "metadata": {
            "tags": []
          },
          "execution_count": 247
        }
      ]
    },
    {
      "cell_type": "code",
      "metadata": {
        "id": "K7vugk3drJff",
        "colab_type": "code",
        "colab": {}
      },
      "source": [
        "# Area Under The Curve:\n",
        "y_pred_prob = mnb_model.predict_proba(X_test_cv)[:,1] #Only for Spam"
      ],
      "execution_count": 0,
      "outputs": []
    },
    {
      "cell_type": "code",
      "metadata": {
        "id": "k_zG5G6uwBf_",
        "colab_type": "code",
        "outputId": "2e57fbb6-451d-44ef-8f76-a31808acf3dd",
        "colab": {
          "base_uri": "https://localhost:8080/",
          "height": 52
        }
      },
      "source": [
        "y_pred_prob"
      ],
      "execution_count": 0,
      "outputs": [
        {
          "output_type": "execute_result",
          "data": {
            "text/plain": [
              "array([2.35015918e-04, 9.99999999e-01, 2.35002707e-16, ...,\n",
              "       1.37011823e-19, 1.24198938e-06, 2.82713593e-05])"
            ]
          },
          "metadata": {
            "tags": []
          },
          "execution_count": 304
        }
      ]
    },
    {
      "cell_type": "code",
      "metadata": {
        "id": "6TqjNi-o4sDu",
        "colab_type": "code",
        "outputId": "608e081a-f57d-4e64-ec68-efc86d3181c4",
        "colab": {
          "base_uri": "https://localhost:8080/",
          "height": 52
        }
      },
      "source": [
        "print(y_test.shape)\n",
        "print(y_pred_prob.shape)"
      ],
      "execution_count": 0,
      "outputs": [
        {
          "output_type": "stream",
          "text": [
            "(1551,)\n",
            "(1551,)\n"
          ],
          "name": "stdout"
        }
      ]
    },
    {
      "cell_type": "code",
      "metadata": {
        "id": "mw6o1bFcz2_A",
        "colab_type": "code",
        "outputId": "d5bf9eab-173d-4313-fc3a-df8f3da87d8a",
        "colab": {
          "base_uri": "https://localhost:8080/",
          "height": 34
        }
      },
      "source": [
        "#Calculation of AUC Score\n",
        "metrics.roc_auc_score(y_test,y_pred_prob)"
      ],
      "execution_count": 0,
      "outputs": [
        {
          "output_type": "execute_result",
          "data": {
            "text/plain": [
              "0.9774892124047263"
            ]
          },
          "metadata": {
            "tags": []
          },
          "execution_count": 306
        }
      ]
    },
    {
      "cell_type": "code",
      "metadata": {
        "id": "drko9J5j5e2B",
        "colab_type": "code",
        "colab": {}
      },
      "source": [
        ""
      ],
      "execution_count": 0,
      "outputs": []
    }
  ]
}